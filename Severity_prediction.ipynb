{
 "cells": [
  {
   "cell_type": "markdown",
   "metadata": {},
   "source": [
    "![](https://i.ibb.co/g9vR4GX/verti2.jpg)"
   ]
  },
  {
   "cell_type": "markdown",
   "metadata": {},
   "source": [
    "   # Prueba de Álvaro Huete"
   ]
  },
  {
   "cell_type": "markdown",
   "metadata": {},
   "source": [
    "## Importación de librerias"
   ]
  },
  {
   "cell_type": "code",
   "execution_count": 148,
   "metadata": {},
   "outputs": [],
   "source": [
    "import pandas as pd\n",
    "import matplotlib.pyplot as plt\n",
    "import folium\n",
    "from folium.plugins import HeatMap\n",
    "import numpy as np\n",
    "from pandas.plotting import autocorrelation_plot\n",
    "from sklearn.model_selection import train_test_split\n",
    "from sklearn.ensemble import RandomForestClassifier\n",
    "from yellowbrick.classifier import ClassPredictionError, PrecisionRecallCurve, ConfusionMatrix, ROCAUC\n",
    "from yellowbrick.target import ClassBalance\n",
    "from sklearn.metrics import precision_score, recall_score, f1_score, balanced_accuracy_score"
   ]
  },
  {
   "cell_type": "markdown",
   "metadata": {},
   "source": [
    "## Carga de datos"
   ]
  },
  {
   "cell_type": "markdown",
   "metadata": {},
   "source": [
    "Disponemos de 3 datasets con datos relacionados con **accidentes de tráfico, heridos y vehículos** implicados en el accidente en **Reino Unido desde 2005 hasta 2015**.\n",
    "En primer lugar, cargamos los datasets y vemos qué aspecto y dimensiones tienen. Así como el formato de las variables que contienen:"
   ]
  },
  {
   "cell_type": "code",
   "execution_count": 3,
   "metadata": {},
   "outputs": [],
   "source": [
    "accidentes = pd.read_csv('C:/Users/asus/Desktop/Verti/Accidents0515.csv')"
   ]
  },
  {
   "cell_type": "code",
   "execution_count": 4,
   "metadata": {},
   "outputs": [
    {
     "data": {
      "text/html": [
       "<div>\n",
       "<style scoped>\n",
       "    .dataframe tbody tr th:only-of-type {\n",
       "        vertical-align: middle;\n",
       "    }\n",
       "\n",
       "    .dataframe tbody tr th {\n",
       "        vertical-align: top;\n",
       "    }\n",
       "\n",
       "    .dataframe thead th {\n",
       "        text-align: right;\n",
       "    }\n",
       "</style>\n",
       "<table border=\"1\" class=\"dataframe\">\n",
       "  <thead>\n",
       "    <tr style=\"text-align: right;\">\n",
       "      <th></th>\n",
       "      <th>Accident_Index</th>\n",
       "      <th>Location_Easting_OSGR</th>\n",
       "      <th>Location_Northing_OSGR</th>\n",
       "      <th>Longitude</th>\n",
       "      <th>Latitude</th>\n",
       "      <th>Police_Force</th>\n",
       "      <th>Accident_Severity</th>\n",
       "      <th>Number_of_Vehicles</th>\n",
       "      <th>Number_of_Casualties</th>\n",
       "      <th>Date</th>\n",
       "      <th>...</th>\n",
       "      <th>Pedestrian_Crossing-Human_Control</th>\n",
       "      <th>Pedestrian_Crossing-Physical_Facilities</th>\n",
       "      <th>Light_Conditions</th>\n",
       "      <th>Weather_Conditions</th>\n",
       "      <th>Road_Surface_Conditions</th>\n",
       "      <th>Special_Conditions_at_Site</th>\n",
       "      <th>Carriageway_Hazards</th>\n",
       "      <th>Urban_or_Rural_Area</th>\n",
       "      <th>Did_Police_Officer_Attend_Scene_of_Accident</th>\n",
       "      <th>LSOA_of_Accident_Location</th>\n",
       "    </tr>\n",
       "  </thead>\n",
       "  <tbody>\n",
       "    <tr>\n",
       "      <th>0</th>\n",
       "      <td>200501BS00001</td>\n",
       "      <td>525680.0</td>\n",
       "      <td>178240.0</td>\n",
       "      <td>-0.191170</td>\n",
       "      <td>51.489096</td>\n",
       "      <td>1</td>\n",
       "      <td>2</td>\n",
       "      <td>1</td>\n",
       "      <td>1</td>\n",
       "      <td>04/01/2005</td>\n",
       "      <td>...</td>\n",
       "      <td>0</td>\n",
       "      <td>1</td>\n",
       "      <td>1</td>\n",
       "      <td>2</td>\n",
       "      <td>2</td>\n",
       "      <td>0</td>\n",
       "      <td>0</td>\n",
       "      <td>1</td>\n",
       "      <td>1</td>\n",
       "      <td>E01002849</td>\n",
       "    </tr>\n",
       "    <tr>\n",
       "      <th>1</th>\n",
       "      <td>200501BS00002</td>\n",
       "      <td>524170.0</td>\n",
       "      <td>181650.0</td>\n",
       "      <td>-0.211708</td>\n",
       "      <td>51.520075</td>\n",
       "      <td>1</td>\n",
       "      <td>3</td>\n",
       "      <td>1</td>\n",
       "      <td>1</td>\n",
       "      <td>05/01/2005</td>\n",
       "      <td>...</td>\n",
       "      <td>0</td>\n",
       "      <td>5</td>\n",
       "      <td>4</td>\n",
       "      <td>1</td>\n",
       "      <td>1</td>\n",
       "      <td>0</td>\n",
       "      <td>0</td>\n",
       "      <td>1</td>\n",
       "      <td>1</td>\n",
       "      <td>E01002909</td>\n",
       "    </tr>\n",
       "    <tr>\n",
       "      <th>2</th>\n",
       "      <td>200501BS00003</td>\n",
       "      <td>524520.0</td>\n",
       "      <td>182240.0</td>\n",
       "      <td>-0.206458</td>\n",
       "      <td>51.525301</td>\n",
       "      <td>1</td>\n",
       "      <td>3</td>\n",
       "      <td>2</td>\n",
       "      <td>1</td>\n",
       "      <td>06/01/2005</td>\n",
       "      <td>...</td>\n",
       "      <td>0</td>\n",
       "      <td>0</td>\n",
       "      <td>4</td>\n",
       "      <td>1</td>\n",
       "      <td>1</td>\n",
       "      <td>0</td>\n",
       "      <td>0</td>\n",
       "      <td>1</td>\n",
       "      <td>1</td>\n",
       "      <td>E01002857</td>\n",
       "    </tr>\n",
       "    <tr>\n",
       "      <th>3</th>\n",
       "      <td>200501BS00004</td>\n",
       "      <td>526900.0</td>\n",
       "      <td>177530.0</td>\n",
       "      <td>-0.173862</td>\n",
       "      <td>51.482442</td>\n",
       "      <td>1</td>\n",
       "      <td>3</td>\n",
       "      <td>1</td>\n",
       "      <td>1</td>\n",
       "      <td>07/01/2005</td>\n",
       "      <td>...</td>\n",
       "      <td>0</td>\n",
       "      <td>0</td>\n",
       "      <td>1</td>\n",
       "      <td>1</td>\n",
       "      <td>1</td>\n",
       "      <td>0</td>\n",
       "      <td>0</td>\n",
       "      <td>1</td>\n",
       "      <td>1</td>\n",
       "      <td>E01002840</td>\n",
       "    </tr>\n",
       "    <tr>\n",
       "      <th>4</th>\n",
       "      <td>200501BS00005</td>\n",
       "      <td>528060.0</td>\n",
       "      <td>179040.0</td>\n",
       "      <td>-0.156618</td>\n",
       "      <td>51.495752</td>\n",
       "      <td>1</td>\n",
       "      <td>3</td>\n",
       "      <td>1</td>\n",
       "      <td>1</td>\n",
       "      <td>10/01/2005</td>\n",
       "      <td>...</td>\n",
       "      <td>0</td>\n",
       "      <td>0</td>\n",
       "      <td>7</td>\n",
       "      <td>1</td>\n",
       "      <td>2</td>\n",
       "      <td>0</td>\n",
       "      <td>0</td>\n",
       "      <td>1</td>\n",
       "      <td>1</td>\n",
       "      <td>E01002863</td>\n",
       "    </tr>\n",
       "  </tbody>\n",
       "</table>\n",
       "<p>5 rows × 32 columns</p>\n",
       "</div>"
      ],
      "text/plain": [
       "  Accident_Index  Location_Easting_OSGR  Location_Northing_OSGR  Longitude  \\\n",
       "0  200501BS00001               525680.0                178240.0  -0.191170   \n",
       "1  200501BS00002               524170.0                181650.0  -0.211708   \n",
       "2  200501BS00003               524520.0                182240.0  -0.206458   \n",
       "3  200501BS00004               526900.0                177530.0  -0.173862   \n",
       "4  200501BS00005               528060.0                179040.0  -0.156618   \n",
       "\n",
       "    Latitude  Police_Force  Accident_Severity  Number_of_Vehicles  \\\n",
       "0  51.489096             1                  2                   1   \n",
       "1  51.520075             1                  3                   1   \n",
       "2  51.525301             1                  3                   2   \n",
       "3  51.482442             1                  3                   1   \n",
       "4  51.495752             1                  3                   1   \n",
       "\n",
       "   Number_of_Casualties        Date            ...              \\\n",
       "0                     1  04/01/2005            ...               \n",
       "1                     1  05/01/2005            ...               \n",
       "2                     1  06/01/2005            ...               \n",
       "3                     1  07/01/2005            ...               \n",
       "4                     1  10/01/2005            ...               \n",
       "\n",
       "   Pedestrian_Crossing-Human_Control Pedestrian_Crossing-Physical_Facilities  \\\n",
       "0                                  0                                       1   \n",
       "1                                  0                                       5   \n",
       "2                                  0                                       0   \n",
       "3                                  0                                       0   \n",
       "4                                  0                                       0   \n",
       "\n",
       "   Light_Conditions Weather_Conditions  Road_Surface_Conditions  \\\n",
       "0                 1                  2                        2   \n",
       "1                 4                  1                        1   \n",
       "2                 4                  1                        1   \n",
       "3                 1                  1                        1   \n",
       "4                 7                  1                        2   \n",
       "\n",
       "   Special_Conditions_at_Site  Carriageway_Hazards  Urban_or_Rural_Area  \\\n",
       "0                           0                    0                    1   \n",
       "1                           0                    0                    1   \n",
       "2                           0                    0                    1   \n",
       "3                           0                    0                    1   \n",
       "4                           0                    0                    1   \n",
       "\n",
       "   Did_Police_Officer_Attend_Scene_of_Accident  LSOA_of_Accident_Location  \n",
       "0                                            1                  E01002849  \n",
       "1                                            1                  E01002909  \n",
       "2                                            1                  E01002857  \n",
       "3                                            1                  E01002840  \n",
       "4                                            1                  E01002863  \n",
       "\n",
       "[5 rows x 32 columns]"
      ]
     },
     "execution_count": 4,
     "metadata": {},
     "output_type": "execute_result"
    }
   ],
   "source": [
    "accidentes.head()"
   ]
  },
  {
   "cell_type": "code",
   "execution_count": 9,
   "metadata": {},
   "outputs": [
    {
     "data": {
      "text/plain": [
       "1780653"
      ]
     },
     "execution_count": 9,
     "metadata": {},
     "output_type": "execute_result"
    }
   ],
   "source": [
    "accidentes.shape[0]"
   ]
  },
  {
   "cell_type": "markdown",
   "metadata": {},
   "source": [
    "Se puede comprobar que cada fila del dataframe se corresponde de forma unívoca con un accidente:"
   ]
  },
  {
   "cell_type": "code",
   "execution_count": 8,
   "metadata": {},
   "outputs": [
    {
     "data": {
      "text/plain": [
       "1780653"
      ]
     },
     "execution_count": 8,
     "metadata": {},
     "output_type": "execute_result"
    }
   ],
   "source": [
    "accidentes.Accident_Index.nunique()"
   ]
  },
  {
   "cell_type": "code",
   "execution_count": 5,
   "metadata": {},
   "outputs": [
    {
     "name": "stdout",
     "output_type": "stream",
     "text": [
      "<class 'pandas.core.frame.DataFrame'>\n",
      "RangeIndex: 1780653 entries, 0 to 1780652\n",
      "Data columns (total 32 columns):\n",
      "Accident_Index                                 object\n",
      "Location_Easting_OSGR                          float64\n",
      "Location_Northing_OSGR                         float64\n",
      "Longitude                                      float64\n",
      "Latitude                                       float64\n",
      "Police_Force                                   int64\n",
      "Accident_Severity                              int64\n",
      "Number_of_Vehicles                             int64\n",
      "Number_of_Casualties                           int64\n",
      "Date                                           object\n",
      "Day_of_Week                                    int64\n",
      "Time                                           object\n",
      "Local_Authority_(District)                     int64\n",
      "Local_Authority_(Highway)                      object\n",
      "1st_Road_Class                                 int64\n",
      "1st_Road_Number                                int64\n",
      "Road_Type                                      int64\n",
      "Speed_limit                                    int64\n",
      "Junction_Detail                                int64\n",
      "Junction_Control                               int64\n",
      "2nd_Road_Class                                 int64\n",
      "2nd_Road_Number                                int64\n",
      "Pedestrian_Crossing-Human_Control              int64\n",
      "Pedestrian_Crossing-Physical_Facilities        int64\n",
      "Light_Conditions                               int64\n",
      "Weather_Conditions                             int64\n",
      "Road_Surface_Conditions                        int64\n",
      "Special_Conditions_at_Site                     int64\n",
      "Carriageway_Hazards                            int64\n",
      "Urban_or_Rural_Area                            int64\n",
      "Did_Police_Officer_Attend_Scene_of_Accident    int64\n",
      "LSOA_of_Accident_Location                      object\n",
      "dtypes: float64(4), int64(23), object(5)\n",
      "memory usage: 434.7+ MB\n"
     ]
    }
   ],
   "source": [
    "accidentes.info()"
   ]
  },
  {
   "cell_type": "markdown",
   "metadata": {},
   "source": [
    "Vemos que la columna 'Date' tiene formato de string, por lo que lo convertimos a formato fecha, para poder analizar los datos de forma anual o mensual de una forma más eficiente creando una columna nueva para cada caso"
   ]
  },
  {
   "cell_type": "code",
   "execution_count": 6,
   "metadata": {
    "collapsed": true
   },
   "outputs": [],
   "source": [
    "accidentes['Date'] = pd.to_datetime(accidentes['Date'])\n",
    "accidentes['year'] = accidentes.Date.apply(lambda x: x.year)\n",
    "accidentes['month'] = accidentes.Date.apply(lambda x: x.month)\n",
    "accidentes['day'] = accidentes.Date.apply(lambda x: x.day)"
   ]
  },
  {
   "cell_type": "markdown",
   "metadata": {},
   "source": [
    "Realizamos el mismo prodecimiento para los otros dos dataframes, con la diferencia que ahora es necesario especificar un parámetro al leer los ficheros .CSV que no devuelva error aunque haya alguna línea del dataframe con formato erróneo:"
   ]
  },
  {
   "cell_type": "code",
   "execution_count": null,
   "metadata": {},
   "outputs": [],
   "source": [
    "casualties = pd.read_csv('C:/Users/asus/Desktop/Verti/Casualties0515.csv', error_bad_lines=False)"
   ]
  },
  {
   "cell_type": "code",
   "execution_count": 22,
   "metadata": {},
   "outputs": [
    {
     "data": {
      "text/plain": [
       "(2216720, 15)"
      ]
     },
     "execution_count": 22,
     "metadata": {},
     "output_type": "execute_result"
    }
   ],
   "source": [
    "casualties.shape"
   ]
  },
  {
   "cell_type": "code",
   "execution_count": 21,
   "metadata": {},
   "outputs": [
    {
     "data": {
      "text/html": [
       "<div>\n",
       "<style scoped>\n",
       "    .dataframe tbody tr th:only-of-type {\n",
       "        vertical-align: middle;\n",
       "    }\n",
       "\n",
       "    .dataframe tbody tr th {\n",
       "        vertical-align: top;\n",
       "    }\n",
       "\n",
       "    .dataframe thead th {\n",
       "        text-align: right;\n",
       "    }\n",
       "</style>\n",
       "<table border=\"1\" class=\"dataframe\">\n",
       "  <thead>\n",
       "    <tr style=\"text-align: right;\">\n",
       "      <th></th>\n",
       "      <th>Accident_Index</th>\n",
       "      <th>Vehicle_Reference</th>\n",
       "      <th>Casualty_Reference</th>\n",
       "      <th>Casualty_Class</th>\n",
       "      <th>Sex_of_Casualty</th>\n",
       "      <th>Age_of_Casualty</th>\n",
       "      <th>Age_Band_of_Casualty</th>\n",
       "      <th>Casualty_Severity</th>\n",
       "      <th>Pedestrian_Location</th>\n",
       "      <th>Pedestrian_Movement</th>\n",
       "      <th>Car_Passenger</th>\n",
       "      <th>Bus_or_Coach_Passenger</th>\n",
       "      <th>Pedestrian_Road_Maintenance_Worker</th>\n",
       "      <th>Casualty_Type</th>\n",
       "      <th>Casualty_Home_Area_Type</th>\n",
       "    </tr>\n",
       "  </thead>\n",
       "  <tbody>\n",
       "    <tr>\n",
       "      <th>0</th>\n",
       "      <td>200501BS00001</td>\n",
       "      <td>1</td>\n",
       "      <td>1</td>\n",
       "      <td>3</td>\n",
       "      <td>1</td>\n",
       "      <td>37</td>\n",
       "      <td>7</td>\n",
       "      <td>2</td>\n",
       "      <td>1</td>\n",
       "      <td>1</td>\n",
       "      <td>0</td>\n",
       "      <td>0</td>\n",
       "      <td>-1</td>\n",
       "      <td>0</td>\n",
       "      <td>1</td>\n",
       "    </tr>\n",
       "    <tr>\n",
       "      <th>1</th>\n",
       "      <td>200501BS00002</td>\n",
       "      <td>1</td>\n",
       "      <td>1</td>\n",
       "      <td>2</td>\n",
       "      <td>1</td>\n",
       "      <td>37</td>\n",
       "      <td>7</td>\n",
       "      <td>3</td>\n",
       "      <td>0</td>\n",
       "      <td>0</td>\n",
       "      <td>0</td>\n",
       "      <td>4</td>\n",
       "      <td>-1</td>\n",
       "      <td>11</td>\n",
       "      <td>1</td>\n",
       "    </tr>\n",
       "    <tr>\n",
       "      <th>2</th>\n",
       "      <td>200501BS00003</td>\n",
       "      <td>2</td>\n",
       "      <td>1</td>\n",
       "      <td>1</td>\n",
       "      <td>1</td>\n",
       "      <td>62</td>\n",
       "      <td>9</td>\n",
       "      <td>3</td>\n",
       "      <td>0</td>\n",
       "      <td>0</td>\n",
       "      <td>0</td>\n",
       "      <td>0</td>\n",
       "      <td>-1</td>\n",
       "      <td>9</td>\n",
       "      <td>1</td>\n",
       "    </tr>\n",
       "    <tr>\n",
       "      <th>3</th>\n",
       "      <td>200501BS00004</td>\n",
       "      <td>1</td>\n",
       "      <td>1</td>\n",
       "      <td>3</td>\n",
       "      <td>1</td>\n",
       "      <td>30</td>\n",
       "      <td>6</td>\n",
       "      <td>3</td>\n",
       "      <td>5</td>\n",
       "      <td>2</td>\n",
       "      <td>0</td>\n",
       "      <td>0</td>\n",
       "      <td>-1</td>\n",
       "      <td>0</td>\n",
       "      <td>1</td>\n",
       "    </tr>\n",
       "    <tr>\n",
       "      <th>4</th>\n",
       "      <td>200501BS00005</td>\n",
       "      <td>1</td>\n",
       "      <td>1</td>\n",
       "      <td>1</td>\n",
       "      <td>1</td>\n",
       "      <td>49</td>\n",
       "      <td>8</td>\n",
       "      <td>3</td>\n",
       "      <td>0</td>\n",
       "      <td>0</td>\n",
       "      <td>0</td>\n",
       "      <td>0</td>\n",
       "      <td>-1</td>\n",
       "      <td>3</td>\n",
       "      <td>-1</td>\n",
       "    </tr>\n",
       "  </tbody>\n",
       "</table>\n",
       "</div>"
      ],
      "text/plain": [
       "  Accident_Index  Vehicle_Reference  Casualty_Reference  Casualty_Class  \\\n",
       "0  200501BS00001                  1                   1               3   \n",
       "1  200501BS00002                  1                   1               2   \n",
       "2  200501BS00003                  2                   1               1   \n",
       "3  200501BS00004                  1                   1               3   \n",
       "4  200501BS00005                  1                   1               1   \n",
       "\n",
       "   Sex_of_Casualty  Age_of_Casualty  Age_Band_of_Casualty  Casualty_Severity  \\\n",
       "0                1               37                     7                  2   \n",
       "1                1               37                     7                  3   \n",
       "2                1               62                     9                  3   \n",
       "3                1               30                     6                  3   \n",
       "4                1               49                     8                  3   \n",
       "\n",
       "   Pedestrian_Location  Pedestrian_Movement  Car_Passenger  \\\n",
       "0                    1                    1              0   \n",
       "1                    0                    0              0   \n",
       "2                    0                    0              0   \n",
       "3                    5                    2              0   \n",
       "4                    0                    0              0   \n",
       "\n",
       "   Bus_or_Coach_Passenger  Pedestrian_Road_Maintenance_Worker  Casualty_Type  \\\n",
       "0                       0                                  -1              0   \n",
       "1                       4                                  -1             11   \n",
       "2                       0                                  -1              9   \n",
       "3                       0                                  -1              0   \n",
       "4                       0                                  -1              3   \n",
       "\n",
       "   Casualty_Home_Area_Type  \n",
       "0                        1  \n",
       "1                        1  \n",
       "2                        1  \n",
       "3                        1  \n",
       "4                       -1  "
      ]
     },
     "execution_count": 21,
     "metadata": {},
     "output_type": "execute_result"
    }
   ],
   "source": [
    "casualties.head()"
   ]
  },
  {
   "cell_type": "code",
   "execution_count": 13,
   "metadata": {},
   "outputs": [
    {
     "data": {
      "text/plain": [
       "1640597"
      ]
     },
     "execution_count": 13,
     "metadata": {},
     "output_type": "execute_result"
    }
   ],
   "source": [
    "casualties.Accident_Index.nunique()"
   ]
  },
  {
   "cell_type": "code",
   "execution_count": null,
   "metadata": {},
   "outputs": [],
   "source": [
    "vehiculos = pd.read_csv('C:/Users/asus/Desktop/Verti/Vehicles0515.csv', error_bad_lines=False)"
   ]
  },
  {
   "cell_type": "code",
   "execution_count": 24,
   "metadata": {},
   "outputs": [
    {
     "data": {
      "text/html": [
       "<div>\n",
       "<style scoped>\n",
       "    .dataframe tbody tr th:only-of-type {\n",
       "        vertical-align: middle;\n",
       "    }\n",
       "\n",
       "    .dataframe tbody tr th {\n",
       "        vertical-align: top;\n",
       "    }\n",
       "\n",
       "    .dataframe thead th {\n",
       "        text-align: right;\n",
       "    }\n",
       "</style>\n",
       "<table border=\"1\" class=\"dataframe\">\n",
       "  <thead>\n",
       "    <tr style=\"text-align: right;\">\n",
       "      <th></th>\n",
       "      <th>Accident_Index</th>\n",
       "      <th>Vehicle_Reference</th>\n",
       "      <th>Vehicle_Type</th>\n",
       "      <th>Towing_and_Articulation</th>\n",
       "      <th>Vehicle_Manoeuvre</th>\n",
       "      <th>Vehicle_Location-Restricted_Lane</th>\n",
       "      <th>Junction_Location</th>\n",
       "      <th>Skidding_and_Overturning</th>\n",
       "      <th>Hit_Object_in_Carriageway</th>\n",
       "      <th>Vehicle_Leaving_Carriageway</th>\n",
       "      <th>...</th>\n",
       "      <th>Was_Vehicle_Left_Hand_Drive?</th>\n",
       "      <th>Journey_Purpose_of_Driver</th>\n",
       "      <th>Sex_of_Driver</th>\n",
       "      <th>Age_of_Driver</th>\n",
       "      <th>Age_Band_of_Driver</th>\n",
       "      <th>Engine_Capacity_(CC)</th>\n",
       "      <th>Propulsion_Code</th>\n",
       "      <th>Age_of_Vehicle</th>\n",
       "      <th>Driver_IMD_Decile</th>\n",
       "      <th>Driver_Home_Area_Type</th>\n",
       "    </tr>\n",
       "  </thead>\n",
       "  <tbody>\n",
       "    <tr>\n",
       "      <th>0</th>\n",
       "      <td>200501BS00001</td>\n",
       "      <td>1</td>\n",
       "      <td>9</td>\n",
       "      <td>0</td>\n",
       "      <td>18</td>\n",
       "      <td>0</td>\n",
       "      <td>0</td>\n",
       "      <td>0</td>\n",
       "      <td>0</td>\n",
       "      <td>0</td>\n",
       "      <td>...</td>\n",
       "      <td>1</td>\n",
       "      <td>15</td>\n",
       "      <td>2</td>\n",
       "      <td>74</td>\n",
       "      <td>10</td>\n",
       "      <td>-1</td>\n",
       "      <td>-1</td>\n",
       "      <td>-1</td>\n",
       "      <td>7</td>\n",
       "      <td>1</td>\n",
       "    </tr>\n",
       "    <tr>\n",
       "      <th>1</th>\n",
       "      <td>200501BS00002</td>\n",
       "      <td>1</td>\n",
       "      <td>11</td>\n",
       "      <td>0</td>\n",
       "      <td>4</td>\n",
       "      <td>0</td>\n",
       "      <td>3</td>\n",
       "      <td>0</td>\n",
       "      <td>0</td>\n",
       "      <td>0</td>\n",
       "      <td>...</td>\n",
       "      <td>1</td>\n",
       "      <td>1</td>\n",
       "      <td>1</td>\n",
       "      <td>42</td>\n",
       "      <td>7</td>\n",
       "      <td>8268</td>\n",
       "      <td>2</td>\n",
       "      <td>3</td>\n",
       "      <td>-1</td>\n",
       "      <td>-1</td>\n",
       "    </tr>\n",
       "    <tr>\n",
       "      <th>2</th>\n",
       "      <td>200501BS00003</td>\n",
       "      <td>1</td>\n",
       "      <td>11</td>\n",
       "      <td>0</td>\n",
       "      <td>17</td>\n",
       "      <td>0</td>\n",
       "      <td>0</td>\n",
       "      <td>0</td>\n",
       "      <td>4</td>\n",
       "      <td>0</td>\n",
       "      <td>...</td>\n",
       "      <td>1</td>\n",
       "      <td>1</td>\n",
       "      <td>1</td>\n",
       "      <td>35</td>\n",
       "      <td>6</td>\n",
       "      <td>8300</td>\n",
       "      <td>2</td>\n",
       "      <td>5</td>\n",
       "      <td>2</td>\n",
       "      <td>1</td>\n",
       "    </tr>\n",
       "    <tr>\n",
       "      <th>3</th>\n",
       "      <td>200501BS00003</td>\n",
       "      <td>2</td>\n",
       "      <td>9</td>\n",
       "      <td>0</td>\n",
       "      <td>2</td>\n",
       "      <td>0</td>\n",
       "      <td>0</td>\n",
       "      <td>0</td>\n",
       "      <td>0</td>\n",
       "      <td>0</td>\n",
       "      <td>...</td>\n",
       "      <td>1</td>\n",
       "      <td>15</td>\n",
       "      <td>1</td>\n",
       "      <td>62</td>\n",
       "      <td>9</td>\n",
       "      <td>1762</td>\n",
       "      <td>1</td>\n",
       "      <td>6</td>\n",
       "      <td>1</td>\n",
       "      <td>1</td>\n",
       "    </tr>\n",
       "    <tr>\n",
       "      <th>4</th>\n",
       "      <td>200501BS00004</td>\n",
       "      <td>1</td>\n",
       "      <td>9</td>\n",
       "      <td>0</td>\n",
       "      <td>18</td>\n",
       "      <td>0</td>\n",
       "      <td>0</td>\n",
       "      <td>0</td>\n",
       "      <td>0</td>\n",
       "      <td>0</td>\n",
       "      <td>...</td>\n",
       "      <td>1</td>\n",
       "      <td>15</td>\n",
       "      <td>2</td>\n",
       "      <td>49</td>\n",
       "      <td>8</td>\n",
       "      <td>1769</td>\n",
       "      <td>1</td>\n",
       "      <td>4</td>\n",
       "      <td>2</td>\n",
       "      <td>1</td>\n",
       "    </tr>\n",
       "  </tbody>\n",
       "</table>\n",
       "<p>5 rows × 22 columns</p>\n",
       "</div>"
      ],
      "text/plain": [
       "  Accident_Index  Vehicle_Reference  Vehicle_Type  Towing_and_Articulation  \\\n",
       "0  200501BS00001                  1             9                        0   \n",
       "1  200501BS00002                  1            11                        0   \n",
       "2  200501BS00003                  1            11                        0   \n",
       "3  200501BS00003                  2             9                        0   \n",
       "4  200501BS00004                  1             9                        0   \n",
       "\n",
       "   Vehicle_Manoeuvre  Vehicle_Location-Restricted_Lane  Junction_Location  \\\n",
       "0                 18                                 0                  0   \n",
       "1                  4                                 0                  3   \n",
       "2                 17                                 0                  0   \n",
       "3                  2                                 0                  0   \n",
       "4                 18                                 0                  0   \n",
       "\n",
       "   Skidding_and_Overturning  Hit_Object_in_Carriageway  \\\n",
       "0                         0                          0   \n",
       "1                         0                          0   \n",
       "2                         0                          4   \n",
       "3                         0                          0   \n",
       "4                         0                          0   \n",
       "\n",
       "   Vehicle_Leaving_Carriageway          ...            \\\n",
       "0                            0          ...             \n",
       "1                            0          ...             \n",
       "2                            0          ...             \n",
       "3                            0          ...             \n",
       "4                            0          ...             \n",
       "\n",
       "   Was_Vehicle_Left_Hand_Drive?  Journey_Purpose_of_Driver  Sex_of_Driver  \\\n",
       "0                             1                         15              2   \n",
       "1                             1                          1              1   \n",
       "2                             1                          1              1   \n",
       "3                             1                         15              1   \n",
       "4                             1                         15              2   \n",
       "\n",
       "   Age_of_Driver  Age_Band_of_Driver  Engine_Capacity_(CC)  Propulsion_Code  \\\n",
       "0             74                  10                    -1               -1   \n",
       "1             42                   7                  8268                2   \n",
       "2             35                   6                  8300                2   \n",
       "3             62                   9                  1762                1   \n",
       "4             49                   8                  1769                1   \n",
       "\n",
       "   Age_of_Vehicle  Driver_IMD_Decile  Driver_Home_Area_Type  \n",
       "0              -1                  7                      1  \n",
       "1               3                 -1                     -1  \n",
       "2               5                  2                      1  \n",
       "3               6                  1                      1  \n",
       "4               4                  2                      1  \n",
       "\n",
       "[5 rows x 22 columns]"
      ]
     },
     "execution_count": 24,
     "metadata": {},
     "output_type": "execute_result"
    }
   ],
   "source": [
    "vehiculos.head()"
   ]
  },
  {
   "cell_type": "code",
   "execution_count": 25,
   "metadata": {},
   "outputs": [
    {
     "data": {
      "text/plain": [
       "(3004425, 22)"
      ]
     },
     "execution_count": 25,
     "metadata": {},
     "output_type": "execute_result"
    }
   ],
   "source": [
    "vehiculos.shape"
   ]
  },
  {
   "cell_type": "code",
   "execution_count": 26,
   "metadata": {},
   "outputs": [
    {
     "data": {
      "text/plain": [
       "1640597"
      ]
     },
     "execution_count": 26,
     "metadata": {},
     "output_type": "execute_result"
    }
   ],
   "source": [
    "vehiculos.Accident_Index.nunique()"
   ]
  },
  {
   "cell_type": "markdown",
   "metadata": {},
   "source": [
    "Como se puede ver, para un mismo accidente puede haber varios heridos y varios vehículos implicados. Además hay filas en el dataframe de accidentes que no tienen correspondencia en ninguno de los otros dos dataframes."
   ]
  },
  {
   "cell_type": "markdown",
   "metadata": {},
   "source": [
    "## Análisis exploratorio"
   ]
  },
  {
   "cell_type": "markdown",
   "metadata": {},
   "source": [
    "A continuación, vamos a realizar un análisis exploratorio de las variables para estudiar la distribución de los datos y poder extraer algunas conclusiones sobre ellos mediante gráficos y tablas que nos permitan tomar decisiones sobre qué modelo es más apropiado y útil de cara a la toma de decisiones por parte de la compañía."
   ]
  },
  {
   "cell_type": "markdown",
   "metadata": {},
   "source": [
    "Como disponemos de información sobre las coordenadas geográficas de los accidentes, podemos  empezar creando un **mapa de calor** para ver las zonas donde se concentran la mayor parte de los accidentes. Por ejemplo, podemos restringir los datos para aquellos accidentes ocurridos en los **meses de verano** (Junio, Julio y Agosto) durante los años **2013, 2014 y 2015** en los cuales el conductor tenía una edad comprendida entre los **26 y los 35 años**, el vehículo era una **moto con mas de 500 CC** de capacidad y la **gravedad** del accidente fue **media**:"
   ]
  },
  {
   "cell_type": "code",
   "execution_count": 27,
   "metadata": {
    "collapsed": true
   },
   "outputs": [],
   "source": [
    "df = accidentes.merge(vehiculos, how='inner', on='Accident_Index')"
   ]
  },
  {
   "cell_type": "markdown",
   "metadata": {},
   "source": [
    "Tomamos aquellos registros con coordenadas no nulas:"
   ]
  },
  {
   "cell_type": "code",
   "execution_count": 28,
   "metadata": {},
   "outputs": [],
   "source": [
    "coord = df[~((df.Longitude.isna())|(df.Latitude.isna()))]"
   ]
  },
  {
   "cell_type": "code",
   "execution_count": 29,
   "metadata": {},
   "outputs": [],
   "source": [
    "verano = coord[(coord.year.isin([2013, 2014, 2015])) & (coord.month.isin([6,7,8])) & (coord.Age_Band_of_Driver==6) & (coord.Vehicle_Type==5) & (coord.Accident_Severity==2)]"
   ]
  },
  {
   "cell_type": "code",
   "execution_count": 30,
   "metadata": {},
   "outputs": [
    {
     "data": {
      "text/html": [
       "<div style=\"width:100%;\"><div style=\"position:relative;width:100%;height:0;padding-bottom:60%;\"><span style=\"color:#565656\">Make this Notebook Trusted to load map: File -> Trust Notebook</span><iframe src=\"about:blank\" style=\"position:absolute;width:100%;height:100%;left:0;top:0;border:none !important;\" data-html=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 onload=\"this.contentDocument.open();this.contentDocument.write(atob(this.getAttribute('data-html')));this.contentDocument.close();\" allowfullscreen webkitallowfullscreen mozallowfullscreen></iframe></div></div>"
      ],
      "text/plain": [
       "<folium.folium.Map at 0x2540fb46668>"
      ]
     },
     "execution_count": 30,
     "metadata": {},
     "output_type": "execute_result"
    }
   ],
   "source": [
    "m = folium.Map(location=[52, -0.8], zoom_start=6.5, tiles='cartodbpositron')\n",
    "heatmap = HeatMap(data=verano[[\"Latitude\", \"Longitude\"]], radius=20).add_to(m)\n",
    "m"
   ]
  },
  {
   "cell_type": "markdown",
   "metadata": {},
   "source": [
    "Veamos el porcentaje de accidentes de cada tipo que hay:"
   ]
  },
  {
   "cell_type": "code",
   "execution_count": 41,
   "metadata": {},
   "outputs": [
    {
     "name": "stdout",
     "output_type": "stream",
     "text": [
      "Slight severity: 85.11%\n",
      "Serious severity: 13.60%\n",
      "Fatal severity: 1.29%\n"
     ]
    }
   ],
   "source": [
    "t1 = accidentes.groupby('Accident_Severity').agg({'Accident_Index':'count'}).reset_index().rename(columns={'Accident_Index':'Accidents'})\n",
    "print('Slight severity: {:.2f}%'.format(t1.iloc[2,1]/accidentes.shape[0]*100))\n",
    "print('Serious severity: {:.2f}%'.format(t1.iloc[1,1]/accidentes.shape[0]*100))\n",
    "print('Fatal severity: {:.2f}%'.format(t1.iloc[0,1]/accidentes.shape[0]*100))"
   ]
  },
  {
   "cell_type": "code",
   "execution_count": 55,
   "metadata": {},
   "outputs": [
    {
     "data": {
      "image/png": "[encoded data removed]",
      "text/plain": [
       "<matplotlib.figure.Figure at 0x253d53ef470>"
      ]
     },
     "metadata": {},
     "output_type": "display_data"
    }
   ],
   "source": [
    "x=['Fatal','Serious','Slight']\n",
    "y = [t1.iloc[0,1]/accidentes.shape[0]*100, t1.iloc[1,1]/accidentes.shape[0]*100, t1.iloc[2,1]/accidentes.shape[0]*100]\n",
    "plt.bar(x, y)\n",
    "plt.ylabel('% Accidentes')\n",
    "plt.title('Proporcion de accidentes por gravedad')\n",
    "plt.show()"
   ]
  },
  {
   "cell_type": "markdown",
   "metadata": {},
   "source": [
    "Podemos comprobar que la muestra está muy **desbalanceada**, siendo la clase 'Slight' mucho mas frecuente que las otras dos. Ésto habrá que tenerlo en cuenta cuando vayamos a entrenar nuestro modelo para evitar sesgo."
   ]
  },
  {
   "cell_type": "markdown",
   "metadata": {},
   "source": [
    "Veamos la evolucion del porcentaje de accidentes de gravedad alta a lo largo de los años:"
   ]
  },
  {
   "cell_type": "code",
   "execution_count": 56,
   "metadata": {},
   "outputs": [
    {
     "data": {
      "text/html": [
       "<div>\n",
       "<style scoped>\n",
       "    .dataframe tbody tr th:only-of-type {\n",
       "        vertical-align: middle;\n",
       "    }\n",
       "\n",
       "    .dataframe tbody tr th {\n",
       "        vertical-align: top;\n",
       "    }\n",
       "\n",
       "    .dataframe thead th {\n",
       "        text-align: right;\n",
       "    }\n",
       "</style>\n",
       "<table border=\"1\" class=\"dataframe\">\n",
       "  <thead>\n",
       "    <tr style=\"text-align: right;\">\n",
       "      <th>Accident_Severity</th>\n",
       "      <th>1</th>\n",
       "      <th>2</th>\n",
       "      <th>3</th>\n",
       "    </tr>\n",
       "    <tr>\n",
       "      <th>year</th>\n",
       "      <th></th>\n",
       "      <th></th>\n",
       "      <th></th>\n",
       "    </tr>\n",
       "  </thead>\n",
       "  <tbody>\n",
       "    <tr>\n",
       "      <th>2005</th>\n",
       "      <td>0.126663</td>\n",
       "      <td>0.103391</td>\n",
       "      <td>0.112692</td>\n",
       "    </tr>\n",
       "    <tr>\n",
       "      <th>2006</th>\n",
       "      <td>0.127228</td>\n",
       "      <td>0.103049</td>\n",
       "      <td>0.106421</td>\n",
       "    </tr>\n",
       "    <tr>\n",
       "      <th>2007</th>\n",
       "      <td>0.118010</td>\n",
       "      <td>0.100471</td>\n",
       "      <td>0.102324</td>\n",
       "    </tr>\n",
       "    <tr>\n",
       "      <th>2008</th>\n",
       "      <td>0.101791</td>\n",
       "      <td>0.095510</td>\n",
       "      <td>0.095758</td>\n",
       "    </tr>\n",
       "    <tr>\n",
       "      <th>2009</th>\n",
       "      <td>0.089443</td>\n",
       "      <td>0.090867</td>\n",
       "      <td>0.092044</td>\n",
       "    </tr>\n",
       "    <tr>\n",
       "      <th>2010</th>\n",
       "      <td>0.075267</td>\n",
       "      <td>0.084435</td>\n",
       "      <td>0.087256</td>\n",
       "    </tr>\n",
       "    <tr>\n",
       "      <th>2011</th>\n",
       "      <td>0.078137</td>\n",
       "      <td>0.086690</td>\n",
       "      <td>0.084912</td>\n",
       "    </tr>\n",
       "    <tr>\n",
       "      <th>2012</th>\n",
       "      <td>0.071180</td>\n",
       "      <td>0.086339</td>\n",
       "      <td>0.081179</td>\n",
       "    </tr>\n",
       "    <tr>\n",
       "      <th>2013</th>\n",
       "      <td>0.069919</td>\n",
       "      <td>0.081064</td>\n",
       "      <td>0.077481</td>\n",
       "    </tr>\n",
       "    <tr>\n",
       "      <th>2014</th>\n",
       "      <td>0.072093</td>\n",
       "      <td>0.085410</td>\n",
       "      <td>0.081809</td>\n",
       "    </tr>\n",
       "    <tr>\n",
       "      <th>2015</th>\n",
       "      <td>0.070267</td>\n",
       "      <td>0.082774</td>\n",
       "      <td>0.078123</td>\n",
       "    </tr>\n",
       "  </tbody>\n",
       "</table>\n",
       "</div>"
      ],
      "text/plain": [
       "Accident_Severity         1         2         3\n",
       "year                                           \n",
       "2005               0.126663  0.103391  0.112692\n",
       "2006               0.127228  0.103049  0.106421\n",
       "2007               0.118010  0.100471  0.102324\n",
       "2008               0.101791  0.095510  0.095758\n",
       "2009               0.089443  0.090867  0.092044\n",
       "2010               0.075267  0.084435  0.087256\n",
       "2011               0.078137  0.086690  0.084912\n",
       "2012               0.071180  0.086339  0.081179\n",
       "2013               0.069919  0.081064  0.077481\n",
       "2014               0.072093  0.085410  0.081809\n",
       "2015               0.070267  0.082774  0.078123"
      ]
     },
     "execution_count": 56,
     "metadata": {},
     "output_type": "execute_result"
    }
   ],
   "source": [
    "rr = pd.crosstab(accidentes.year, accidentes.Accident_Severity, normalize='columns')"
   ]
  },
  {
   "cell_type": "code",
   "execution_count": 82,
   "metadata": {},
   "outputs": [
    {
     "data": {
      "image/png": "[encoded data removed]",
      "text/plain": [
       "<matplotlib.figure.Figure at 0x253d5f13c18>"
      ]
     },
     "metadata": {},
     "output_type": "display_data"
    }
   ],
   "source": [
    "rr.plot.bar()\n",
    "plt.ylabel('% Accidentes')\n",
    "plt.xlabel('Año')\n",
    "plt.title('Proporcion anual de accidentes por gravedad')\n",
    "plt.show()"
   ]
  },
  {
   "cell_type": "markdown",
   "metadata": {},
   "source": [
    "Vemos que en los 3 primeros años los accidentes graves eran los más frecuentes, y que esa tendencia ha ido **decreciendo con el paso de los años hasta ser los menos frecuentes**. También se podría analizar para un año determinado el porcentaje de accidentes por mes."
   ]
  },
  {
   "cell_type": "markdown",
   "metadata": {},
   "source": [
    "Veamos ahora la relación que hay entre la gravedad del accidente y algunas de las variables del dataframe correspondiente:"
   ]
  },
  {
   "cell_type": "markdown",
   "metadata": {},
   "source": [
    "Tipo de carretera:"
   ]
  },
  {
   "cell_type": "code",
   "execution_count": 85,
   "metadata": {},
   "outputs": [
    {
     "data": {
      "text/html": [
       "<div>\n",
       "<style scoped>\n",
       "    .dataframe tbody tr th:only-of-type {\n",
       "        vertical-align: middle;\n",
       "    }\n",
       "\n",
       "    .dataframe tbody tr th {\n",
       "        vertical-align: top;\n",
       "    }\n",
       "\n",
       "    .dataframe thead th {\n",
       "        text-align: right;\n",
       "    }\n",
       "</style>\n",
       "<table border=\"1\" class=\"dataframe\">\n",
       "  <thead>\n",
       "    <tr style=\"text-align: right;\">\n",
       "      <th>Accident_Severity</th>\n",
       "      <th>1</th>\n",
       "      <th>2</th>\n",
       "      <th>3</th>\n",
       "    </tr>\n",
       "    <tr>\n",
       "      <th>Road_Type</th>\n",
       "      <th></th>\n",
       "      <th></th>\n",
       "      <th></th>\n",
       "    </tr>\n",
       "  </thead>\n",
       "  <tbody>\n",
       "    <tr>\n",
       "      <th>1</th>\n",
       "      <td>0.015958</td>\n",
       "      <td>0.043713</td>\n",
       "      <td>0.071605</td>\n",
       "    </tr>\n",
       "    <tr>\n",
       "      <th>2</th>\n",
       "      <td>0.010740</td>\n",
       "      <td>0.019097</td>\n",
       "      <td>0.021038</td>\n",
       "    </tr>\n",
       "    <tr>\n",
       "      <th>3</th>\n",
       "      <td>0.201974</td>\n",
       "      <td>0.130796</td>\n",
       "      <td>0.149542</td>\n",
       "    </tr>\n",
       "    <tr>\n",
       "      <th>6</th>\n",
       "      <td>0.761631</td>\n",
       "      <td>0.794803</td>\n",
       "      <td>0.740618</td>\n",
       "    </tr>\n",
       "    <tr>\n",
       "      <th>7</th>\n",
       "      <td>0.006131</td>\n",
       "      <td>0.006915</td>\n",
       "      <td>0.011106</td>\n",
       "    </tr>\n",
       "    <tr>\n",
       "      <th>9</th>\n",
       "      <td>0.003566</td>\n",
       "      <td>0.004676</td>\n",
       "      <td>0.006091</td>\n",
       "    </tr>\n",
       "  </tbody>\n",
       "</table>\n",
       "</div>"
      ],
      "text/plain": [
       "Accident_Severity         1         2         3\n",
       "Road_Type                                      \n",
       "1                  0.015958  0.043713  0.071605\n",
       "2                  0.010740  0.019097  0.021038\n",
       "3                  0.201974  0.130796  0.149542\n",
       "6                  0.761631  0.794803  0.740618\n",
       "7                  0.006131  0.006915  0.011106\n",
       "9                  0.003566  0.004676  0.006091"
      ]
     },
     "execution_count": 85,
     "metadata": {},
     "output_type": "execute_result"
    }
   ],
   "source": [
    "tc = pd.crosstab(accidentes.Road_Type, accidentes.Accident_Severity, normalize='columns')\n",
    "tc"
   ]
  },
  {
   "cell_type": "code",
   "execution_count": 87,
   "metadata": {},
   "outputs": [
    {
     "data": {
      "image/png": "[encoded data removed]",
      "text/plain": [
       "<matplotlib.figure.Figure at 0x253d601d6d8>"
      ]
     },
     "metadata": {},
     "output_type": "display_data"
    }
   ],
   "source": [
    "tc.plot.bar()\n",
    "plt.ylabel('% Accidentes')\n",
    "plt.title('Proporcion accidentes por tipo de carretera')\n",
    "plt.show()"
   ]
  },
  {
   "cell_type": "markdown",
   "metadata": {},
   "source": [
    "La mayor parte de los accidentes se producen en **vías de un solo carril**."
   ]
  },
  {
   "cell_type": "markdown",
   "metadata": {},
   "source": [
    "Media anual del número de vehículos y heridos por accidente:"
   ]
  },
  {
   "cell_type": "code",
   "execution_count": 88,
   "metadata": {},
   "outputs": [
    {
     "data": {
      "text/html": [
       "<div>\n",
       "<style scoped>\n",
       "    .dataframe tbody tr th:only-of-type {\n",
       "        vertical-align: middle;\n",
       "    }\n",
       "\n",
       "    .dataframe tbody tr th {\n",
       "        vertical-align: top;\n",
       "    }\n",
       "\n",
       "    .dataframe thead th {\n",
       "        text-align: right;\n",
       "    }\n",
       "</style>\n",
       "<table border=\"1\" class=\"dataframe\">\n",
       "  <thead>\n",
       "    <tr style=\"text-align: right;\">\n",
       "      <th></th>\n",
       "      <th>Number_of_Vehicles</th>\n",
       "      <th>Number_of_Casualties</th>\n",
       "    </tr>\n",
       "    <tr>\n",
       "      <th>year</th>\n",
       "      <th></th>\n",
       "      <th></th>\n",
       "    </tr>\n",
       "  </thead>\n",
       "  <tbody>\n",
       "    <tr>\n",
       "      <th>2005</th>\n",
       "      <td>1.842836</td>\n",
       "      <td>1.363710</td>\n",
       "    </tr>\n",
       "    <tr>\n",
       "      <th>2006</th>\n",
       "      <td>1.840015</td>\n",
       "      <td>1.366053</td>\n",
       "    </tr>\n",
       "    <tr>\n",
       "      <th>2007</th>\n",
       "      <td>1.839310</td>\n",
       "      <td>1.360569</td>\n",
       "    </tr>\n",
       "    <tr>\n",
       "      <th>2008</th>\n",
       "      <td>1.826615</td>\n",
       "      <td>1.353559</td>\n",
       "    </tr>\n",
       "    <tr>\n",
       "      <th>2009</th>\n",
       "      <td>1.826229</td>\n",
       "      <td>1.358243</td>\n",
       "    </tr>\n",
       "    <tr>\n",
       "      <th>2010</th>\n",
       "      <td>1.822380</td>\n",
       "      <td>1.351225</td>\n",
       "    </tr>\n",
       "    <tr>\n",
       "      <th>2011</th>\n",
       "      <td>1.823118</td>\n",
       "      <td>1.346436</td>\n",
       "    </tr>\n",
       "    <tr>\n",
       "      <th>2012</th>\n",
       "      <td>1.826442</td>\n",
       "      <td>1.344519</td>\n",
       "    </tr>\n",
       "    <tr>\n",
       "      <th>2013</th>\n",
       "      <td>1.823980</td>\n",
       "      <td>1.324607</td>\n",
       "    </tr>\n",
       "    <tr>\n",
       "      <th>2014</th>\n",
       "      <td>1.835179</td>\n",
       "      <td>1.329103</td>\n",
       "    </tr>\n",
       "    <tr>\n",
       "      <th>2015</th>\n",
       "      <td>1.841014</td>\n",
       "      <td>1.329390</td>\n",
       "    </tr>\n",
       "  </tbody>\n",
       "</table>\n",
       "</div>"
      ],
      "text/plain": [
       "      Number_of_Vehicles  Number_of_Casualties\n",
       "year                                          \n",
       "2005            1.842836              1.363710\n",
       "2006            1.840015              1.366053\n",
       "2007            1.839310              1.360569\n",
       "2008            1.826615              1.353559\n",
       "2009            1.826229              1.358243\n",
       "2010            1.822380              1.351225\n",
       "2011            1.823118              1.346436\n",
       "2012            1.826442              1.344519\n",
       "2013            1.823980              1.324607\n",
       "2014            1.835179              1.329103\n",
       "2015            1.841014              1.329390"
      ]
     },
     "execution_count": 88,
     "metadata": {},
     "output_type": "execute_result"
    }
   ],
   "source": [
    "accidentes.groupby('year').agg({'Number_of_Vehicles':'mean', 'Number_of_Casualties':'mean'})"
   ]
  },
  {
   "cell_type": "markdown",
   "metadata": {},
   "source": [
    "La mayor parte de accidentes graves se producen en **áreas rurales**:"
   ]
  },
  {
   "cell_type": "code",
   "execution_count": 89,
   "metadata": {},
   "outputs": [
    {
     "data": {
      "text/html": [
       "<div>\n",
       "<style scoped>\n",
       "    .dataframe tbody tr th:only-of-type {\n",
       "        vertical-align: middle;\n",
       "    }\n",
       "\n",
       "    .dataframe tbody tr th {\n",
       "        vertical-align: top;\n",
       "    }\n",
       "\n",
       "    .dataframe thead th {\n",
       "        text-align: right;\n",
       "    }\n",
       "</style>\n",
       "<table border=\"1\" class=\"dataframe\">\n",
       "  <thead>\n",
       "    <tr style=\"text-align: right;\">\n",
       "      <th>Accident_Severity</th>\n",
       "      <th>1</th>\n",
       "      <th>2</th>\n",
       "      <th>3</th>\n",
       "    </tr>\n",
       "    <tr>\n",
       "      <th>Urban_or_Rural_Area</th>\n",
       "      <th></th>\n",
       "      <th></th>\n",
       "      <th></th>\n",
       "    </tr>\n",
       "  </thead>\n",
       "  <tbody>\n",
       "    <tr>\n",
       "      <th>1</th>\n",
       "      <td>0.354205</td>\n",
       "      <td>0.580023</td>\n",
       "      <td>0.658406</td>\n",
       "    </tr>\n",
       "    <tr>\n",
       "      <th>2</th>\n",
       "      <td>0.645795</td>\n",
       "      <td>0.419898</td>\n",
       "      <td>0.341513</td>\n",
       "    </tr>\n",
       "    <tr>\n",
       "      <th>3</th>\n",
       "      <td>0.000000</td>\n",
       "      <td>0.000078</td>\n",
       "      <td>0.000082</td>\n",
       "    </tr>\n",
       "  </tbody>\n",
       "</table>\n",
       "</div>"
      ],
      "text/plain": [
       "Accident_Severity           1         2         3\n",
       "Urban_or_Rural_Area                              \n",
       "1                    0.354205  0.580023  0.658406\n",
       "2                    0.645795  0.419898  0.341513\n",
       "3                    0.000000  0.000078  0.000082"
      ]
     },
     "execution_count": 89,
     "metadata": {},
     "output_type": "execute_result"
    }
   ],
   "source": [
    "pd.crosstab(accidentes.Urban_or_Rural_Area, accidentes.Accident_Severity, normalize='columns')"
   ]
  },
  {
   "cell_type": "markdown",
   "metadata": {},
   "source": [
    "La mayoría de accidentes graves se producen con **luz diurna**:"
   ]
  },
  {
   "cell_type": "code",
   "execution_count": 90,
   "metadata": {},
   "outputs": [
    {
     "data": {
      "text/html": [
       "<div>\n",
       "<style scoped>\n",
       "    .dataframe tbody tr th:only-of-type {\n",
       "        vertical-align: middle;\n",
       "    }\n",
       "\n",
       "    .dataframe tbody tr th {\n",
       "        vertical-align: top;\n",
       "    }\n",
       "\n",
       "    .dataframe thead th {\n",
       "        text-align: right;\n",
       "    }\n",
       "</style>\n",
       "<table border=\"1\" class=\"dataframe\">\n",
       "  <thead>\n",
       "    <tr style=\"text-align: right;\">\n",
       "      <th>Accident_Severity</th>\n",
       "      <th>1</th>\n",
       "      <th>2</th>\n",
       "      <th>3</th>\n",
       "    </tr>\n",
       "    <tr>\n",
       "      <th>Light_Conditions</th>\n",
       "      <th></th>\n",
       "      <th></th>\n",
       "      <th></th>\n",
       "    </tr>\n",
       "  </thead>\n",
       "  <tbody>\n",
       "    <tr>\n",
       "      <th>1</th>\n",
       "      <td>0.586877</td>\n",
       "      <td>0.689950</td>\n",
       "      <td>0.741602</td>\n",
       "    </tr>\n",
       "    <tr>\n",
       "      <th>4</th>\n",
       "      <td>0.208105</td>\n",
       "      <td>0.215016</td>\n",
       "      <td>0.193254</td>\n",
       "    </tr>\n",
       "    <tr>\n",
       "      <th>5</th>\n",
       "      <td>0.006827</td>\n",
       "      <td>0.005126</td>\n",
       "      <td>0.004478</td>\n",
       "    </tr>\n",
       "    <tr>\n",
       "      <th>6</th>\n",
       "      <td>0.187625</td>\n",
       "      <td>0.079639</td>\n",
       "      <td>0.049719</td>\n",
       "    </tr>\n",
       "    <tr>\n",
       "      <th>7</th>\n",
       "      <td>0.010566</td>\n",
       "      <td>0.010269</td>\n",
       "      <td>0.010946</td>\n",
       "    </tr>\n",
       "  </tbody>\n",
       "</table>\n",
       "</div>"
      ],
      "text/plain": [
       "Accident_Severity         1         2         3\n",
       "Light_Conditions                               \n",
       "1                  0.586877  0.689950  0.741602\n",
       "4                  0.208105  0.215016  0.193254\n",
       "5                  0.006827  0.005126  0.004478\n",
       "6                  0.187625  0.079639  0.049719\n",
       "7                  0.010566  0.010269  0.010946"
      ]
     },
     "execution_count": 90,
     "metadata": {},
     "output_type": "execute_result"
    }
   ],
   "source": [
    "pd.crosstab(accidentes.Light_Conditions, accidentes.Accident_Severity, normalize='columns')"
   ]
  },
  {
   "cell_type": "markdown",
   "metadata": {},
   "source": [
    "La mayoría de accidentes graves se producen con la condición meteorológica 1 (no aparecen las etiquetas en el archivo)"
   ]
  },
  {
   "cell_type": "code",
   "execution_count": 91,
   "metadata": {},
   "outputs": [
    {
     "data": {
      "text/html": [
       "<div>\n",
       "<style scoped>\n",
       "    .dataframe tbody tr th:only-of-type {\n",
       "        vertical-align: middle;\n",
       "    }\n",
       "\n",
       "    .dataframe tbody tr th {\n",
       "        vertical-align: top;\n",
       "    }\n",
       "\n",
       "    .dataframe thead th {\n",
       "        text-align: right;\n",
       "    }\n",
       "</style>\n",
       "<table border=\"1\" class=\"dataframe\">\n",
       "  <thead>\n",
       "    <tr style=\"text-align: right;\">\n",
       "      <th>Accident_Severity</th>\n",
       "      <th>1</th>\n",
       "      <th>2</th>\n",
       "      <th>3</th>\n",
       "    </tr>\n",
       "    <tr>\n",
       "      <th>Weather_Conditions</th>\n",
       "      <th></th>\n",
       "      <th></th>\n",
       "      <th></th>\n",
       "    </tr>\n",
       "  </thead>\n",
       "  <tbody>\n",
       "    <tr>\n",
       "      <th>-1</th>\n",
       "      <td>0.000130</td>\n",
       "      <td>0.000054</td>\n",
       "      <td>0.000096</td>\n",
       "    </tr>\n",
       "    <tr>\n",
       "      <th>1</th>\n",
       "      <td>0.827072</td>\n",
       "      <td>0.822893</td>\n",
       "      <td>0.795023</td>\n",
       "    </tr>\n",
       "    <tr>\n",
       "      <th>2</th>\n",
       "      <td>0.096313</td>\n",
       "      <td>0.105428</td>\n",
       "      <td>0.120583</td>\n",
       "    </tr>\n",
       "    <tr>\n",
       "      <th>3</th>\n",
       "      <td>0.004174</td>\n",
       "      <td>0.005011</td>\n",
       "      <td>0.007318</td>\n",
       "    </tr>\n",
       "    <tr>\n",
       "      <th>4</th>\n",
       "      <td>0.018871</td>\n",
       "      <td>0.014392</td>\n",
       "      <td>0.012797</td>\n",
       "    </tr>\n",
       "    <tr>\n",
       "      <th>5</th>\n",
       "      <td>0.015523</td>\n",
       "      <td>0.014268</td>\n",
       "      <td>0.014545</td>\n",
       "    </tr>\n",
       "    <tr>\n",
       "      <th>6</th>\n",
       "      <td>0.000652</td>\n",
       "      <td>0.001128</td>\n",
       "      <td>0.001333</td>\n",
       "    </tr>\n",
       "    <tr>\n",
       "      <th>7</th>\n",
       "      <td>0.009088</td>\n",
       "      <td>0.005746</td>\n",
       "      <td>0.005344</td>\n",
       "    </tr>\n",
       "    <tr>\n",
       "      <th>8</th>\n",
       "      <td>0.015001</td>\n",
       "      <td>0.017788</td>\n",
       "      <td>0.022773</td>\n",
       "    </tr>\n",
       "    <tr>\n",
       "      <th>9</th>\n",
       "      <td>0.013175</td>\n",
       "      <td>0.013293</td>\n",
       "      <td>0.020188</td>\n",
       "    </tr>\n",
       "  </tbody>\n",
       "</table>\n",
       "</div>"
      ],
      "text/plain": [
       "Accident_Severity          1         2         3\n",
       "Weather_Conditions                              \n",
       "-1                  0.000130  0.000054  0.000096\n",
       " 1                  0.827072  0.822893  0.795023\n",
       " 2                  0.096313  0.105428  0.120583\n",
       " 3                  0.004174  0.005011  0.007318\n",
       " 4                  0.018871  0.014392  0.012797\n",
       " 5                  0.015523  0.014268  0.014545\n",
       " 6                  0.000652  0.001128  0.001333\n",
       " 7                  0.009088  0.005746  0.005344\n",
       " 8                  0.015001  0.017788  0.022773\n",
       " 9                  0.013175  0.013293  0.020188"
      ]
     },
     "execution_count": 91,
     "metadata": {},
     "output_type": "execute_result"
    }
   ],
   "source": [
    "pd.crosstab(accidentes.Weather_Conditions, accidentes.Accident_Severity, normalize='columns')"
   ]
  },
  {
   "cell_type": "markdown",
   "metadata": {},
   "source": [
    "La mayor parte de accidentes graves ocurren en zonas con un limite de velocidad de 60 km/h:"
   ]
  },
  {
   "cell_type": "code",
   "execution_count": 92,
   "metadata": {},
   "outputs": [
    {
     "data": {
      "text/html": [
       "<div>\n",
       "<style scoped>\n",
       "    .dataframe tbody tr th:only-of-type {\n",
       "        vertical-align: middle;\n",
       "    }\n",
       "\n",
       "    .dataframe tbody tr th {\n",
       "        vertical-align: top;\n",
       "    }\n",
       "\n",
       "    .dataframe thead th {\n",
       "        text-align: right;\n",
       "    }\n",
       "</style>\n",
       "<table border=\"1\" class=\"dataframe\">\n",
       "  <thead>\n",
       "    <tr style=\"text-align: right;\">\n",
       "      <th>Accident_Severity</th>\n",
       "      <th>1</th>\n",
       "      <th>2</th>\n",
       "      <th>3</th>\n",
       "    </tr>\n",
       "    <tr>\n",
       "      <th>Speed_limit</th>\n",
       "      <th></th>\n",
       "      <th></th>\n",
       "      <th></th>\n",
       "    </tr>\n",
       "  </thead>\n",
       "  <tbody>\n",
       "    <tr>\n",
       "      <th>0</th>\n",
       "      <td>0.000000</td>\n",
       "      <td>0.000000</td>\n",
       "      <td>6.598156e-07</td>\n",
       "    </tr>\n",
       "    <tr>\n",
       "      <th>10</th>\n",
       "      <td>0.000130</td>\n",
       "      <td>0.000008</td>\n",
       "      <td>9.237418e-06</td>\n",
       "    </tr>\n",
       "    <tr>\n",
       "      <th>15</th>\n",
       "      <td>0.000000</td>\n",
       "      <td>0.000004</td>\n",
       "      <td>9.897234e-06</td>\n",
       "    </tr>\n",
       "    <tr>\n",
       "      <th>20</th>\n",
       "      <td>0.005174</td>\n",
       "      <td>0.013120</td>\n",
       "      <td>1.235307e-02</td>\n",
       "    </tr>\n",
       "    <tr>\n",
       "      <th>30</th>\n",
       "      <td>0.330072</td>\n",
       "      <td>0.585546</td>\n",
       "      <td>6.547145e-01</td>\n",
       "    </tr>\n",
       "    <tr>\n",
       "      <th>40</th>\n",
       "      <td>0.093965</td>\n",
       "      <td>0.082229</td>\n",
       "      <td>8.196559e-02</td>\n",
       "    </tr>\n",
       "    <tr>\n",
       "      <th>50</th>\n",
       "      <td>0.055135</td>\n",
       "      <td>0.035645</td>\n",
       "      <td>3.207232e-02</td>\n",
       "    </tr>\n",
       "    <tr>\n",
       "      <th>60</th>\n",
       "      <td>0.384294</td>\n",
       "      <td>0.218886</td>\n",
       "      <td>1.455137e-01</td>\n",
       "    </tr>\n",
       "    <tr>\n",
       "      <th>70</th>\n",
       "      <td>0.131229</td>\n",
       "      <td>0.064561</td>\n",
       "      <td>7.336094e-02</td>\n",
       "    </tr>\n",
       "  </tbody>\n",
       "</table>\n",
       "</div>"
      ],
      "text/plain": [
       "Accident_Severity         1         2             3\n",
       "Speed_limit                                        \n",
       "0                  0.000000  0.000000  6.598156e-07\n",
       "10                 0.000130  0.000008  9.237418e-06\n",
       "15                 0.000000  0.000004  9.897234e-06\n",
       "20                 0.005174  0.013120  1.235307e-02\n",
       "30                 0.330072  0.585546  6.547145e-01\n",
       "40                 0.093965  0.082229  8.196559e-02\n",
       "50                 0.055135  0.035645  3.207232e-02\n",
       "60                 0.384294  0.218886  1.455137e-01\n",
       "70                 0.131229  0.064561  7.336094e-02"
      ]
     },
     "execution_count": 92,
     "metadata": {},
     "output_type": "execute_result"
    }
   ],
   "source": [
    "pd.crosstab(accidentes.Speed_limit, accidentes.Accident_Severity, normalize='columns')"
   ]
  },
  {
   "cell_type": "markdown",
   "metadata": {},
   "source": [
    "No se aprecia una relación significativa entre la gravedad del accidente y el dia de la semana:"
   ]
  },
  {
   "cell_type": "code",
   "execution_count": 93,
   "metadata": {},
   "outputs": [
    {
     "data": {
      "text/html": [
       "<div>\n",
       "<style scoped>\n",
       "    .dataframe tbody tr th:only-of-type {\n",
       "        vertical-align: middle;\n",
       "    }\n",
       "\n",
       "    .dataframe tbody tr th {\n",
       "        vertical-align: top;\n",
       "    }\n",
       "\n",
       "    .dataframe thead th {\n",
       "        text-align: right;\n",
       "    }\n",
       "</style>\n",
       "<table border=\"1\" class=\"dataframe\">\n",
       "  <thead>\n",
       "    <tr style=\"text-align: right;\">\n",
       "      <th>Accident_Severity</th>\n",
       "      <th>1</th>\n",
       "      <th>2</th>\n",
       "      <th>3</th>\n",
       "    </tr>\n",
       "    <tr>\n",
       "      <th>Day_of_Week</th>\n",
       "      <th></th>\n",
       "      <th></th>\n",
       "      <th></th>\n",
       "    </tr>\n",
       "  </thead>\n",
       "  <tbody>\n",
       "    <tr>\n",
       "      <th>1</th>\n",
       "      <td>0.159666</td>\n",
       "      <td>0.130027</td>\n",
       "      <td>0.105687</td>\n",
       "    </tr>\n",
       "    <tr>\n",
       "      <th>2</th>\n",
       "      <td>0.128229</td>\n",
       "      <td>0.135199</td>\n",
       "      <td>0.143571</td>\n",
       "    </tr>\n",
       "    <tr>\n",
       "      <th>3</th>\n",
       "      <td>0.128098</td>\n",
       "      <td>0.141205</td>\n",
       "      <td>0.151478</td>\n",
       "    </tr>\n",
       "    <tr>\n",
       "      <th>4</th>\n",
       "      <td>0.127315</td>\n",
       "      <td>0.141503</td>\n",
       "      <td>0.152554</td>\n",
       "    </tr>\n",
       "    <tr>\n",
       "      <th>5</th>\n",
       "      <td>0.131446</td>\n",
       "      <td>0.144601</td>\n",
       "      <td>0.151405</td>\n",
       "    </tr>\n",
       "    <tr>\n",
       "      <th>6</th>\n",
       "      <td>0.152622</td>\n",
       "      <td>0.159869</td>\n",
       "      <td>0.164392</td>\n",
       "    </tr>\n",
       "    <tr>\n",
       "      <th>7</th>\n",
       "      <td>0.172624</td>\n",
       "      <td>0.147596</td>\n",
       "      <td>0.130913</td>\n",
       "    </tr>\n",
       "  </tbody>\n",
       "</table>\n",
       "</div>"
      ],
      "text/plain": [
       "Accident_Severity         1         2         3\n",
       "Day_of_Week                                    \n",
       "1                  0.159666  0.130027  0.105687\n",
       "2                  0.128229  0.135199  0.143571\n",
       "3                  0.128098  0.141205  0.151478\n",
       "4                  0.127315  0.141503  0.152554\n",
       "5                  0.131446  0.144601  0.151405\n",
       "6                  0.152622  0.159869  0.164392\n",
       "7                  0.172624  0.147596  0.130913"
      ]
     },
     "execution_count": 93,
     "metadata": {},
     "output_type": "execute_result"
    }
   ],
   "source": [
    "pd.crosstab(accidentes.Day_of_Week, accidentes.Accident_Severity, normalize='columns')"
   ]
  },
  {
   "cell_type": "markdown",
   "metadata": {},
   "source": [
    "Podemos analizar tambien algunas variables del dataframe de los heridos en accidentes:"
   ]
  },
  {
   "cell_type": "markdown",
   "metadata": {},
   "source": [
    "Gravedad de los heridos por género:"
   ]
  },
  {
   "cell_type": "code",
   "execution_count": 97,
   "metadata": {},
   "outputs": [
    {
     "data": {
      "text/html": [
       "<div>\n",
       "<style scoped>\n",
       "    .dataframe tbody tr th:only-of-type {\n",
       "        vertical-align: middle;\n",
       "    }\n",
       "\n",
       "    .dataframe tbody tr th {\n",
       "        vertical-align: top;\n",
       "    }\n",
       "\n",
       "    .dataframe thead th {\n",
       "        text-align: right;\n",
       "    }\n",
       "</style>\n",
       "<table border=\"1\" class=\"dataframe\">\n",
       "  <thead>\n",
       "    <tr style=\"text-align: right;\">\n",
       "      <th>Casualty_Severity</th>\n",
       "      <th>1</th>\n",
       "      <th>2</th>\n",
       "      <th>3</th>\n",
       "    </tr>\n",
       "    <tr>\n",
       "      <th>Sex_of_Casualty</th>\n",
       "      <th></th>\n",
       "      <th></th>\n",
       "      <th></th>\n",
       "    </tr>\n",
       "  </thead>\n",
       "  <tbody>\n",
       "    <tr>\n",
       "      <th>-1</th>\n",
       "      <td>0.000043</td>\n",
       "      <td>0.000128</td>\n",
       "      <td>0.000307</td>\n",
       "    </tr>\n",
       "    <tr>\n",
       "      <th>1</th>\n",
       "      <td>0.748830</td>\n",
       "      <td>0.691432</td>\n",
       "      <td>0.567078</td>\n",
       "    </tr>\n",
       "    <tr>\n",
       "      <th>2</th>\n",
       "      <td>0.251127</td>\n",
       "      <td>0.308440</td>\n",
       "      <td>0.432615</td>\n",
       "    </tr>\n",
       "  </tbody>\n",
       "</table>\n",
       "</div>"
      ],
      "text/plain": [
       "Casualty_Severity         1         2         3\n",
       "Sex_of_Casualty                                \n",
       "-1                 0.000043  0.000128  0.000307\n",
       " 1                 0.748830  0.691432  0.567078\n",
       " 2                 0.251127  0.308440  0.432615"
      ]
     },
     "execution_count": 97,
     "metadata": {},
     "output_type": "execute_result"
    }
   ],
   "source": [
    "gender = pd.crosstab(casualties.Sex_of_Casualty, casualties.Casualty_Severity, normalize='columns')\n",
    "gender"
   ]
  },
  {
   "cell_type": "code",
   "execution_count": 104,
   "metadata": {},
   "outputs": [
    {
     "data": {
      "image/png": "[encoded data removed]",
      "text/plain": [
       "<matplotlib.figure.Figure at 0x254017837b8>"
      ]
     },
     "metadata": {},
     "output_type": "display_data"
    }
   ],
   "source": [
    "gender.plot.bar()\n",
    "plt.ylabel('%')\n",
    "plt.title('Porcentaje de accidentes por gravedad y sexo')\n",
    "plt.show()"
   ]
  },
  {
   "cell_type": "markdown",
   "metadata": {},
   "source": [
    "Los heridos de más gravedad son **hombres**."
   ]
  },
  {
   "cell_type": "markdown",
   "metadata": {},
   "source": [
    "Porcentaje de heridos por banda de edad y clase:"
   ]
  },
  {
   "cell_type": "code",
   "execution_count": 105,
   "metadata": {},
   "outputs": [
    {
     "data": {
      "image/png": "[encoded data removed]",
      "text/plain": [
       "<matplotlib.figure.Figure at 0x254016c0c50>"
      ]
     },
     "metadata": {},
     "output_type": "display_data"
    }
   ],
   "source": [
    "labels1 = list(range(1,12))\n",
    "fracs1 = casualties[~casualties.Age_Band_of_Casualty.isin([-1])].groupby('Age_Band_of_Casualty').size().reset_index()\n",
    "fracs1 = list(fracs1[0]/casualties.shape[0])\n",
    "\n",
    "\n",
    "f,(ax1,ax2) = plt.subplots(1,2)\n",
    "\n",
    "ws,texts, autotexts=ax1.pie(fracs1,labels=labels1, autopct='%1.1f%%', shadow=True, startangle=90,\n",
    "                                textprops=dict(color=\"black\"))\n",
    "\n",
    "plt.setp(autotexts, size=8, weight=\"bold\")\n",
    "\n",
    "plt.legend(ws, labels1,\n",
    "          title=\"ageRange\",\n",
    "          loc=\"center right\",\n",
    "          bbox_to_anchor=(0.95, 0, 1, 1))\n",
    "\n",
    "ax1.axis('equal')\n",
    "ax1.set_title(\"Share of casualties by age band\")\n",
    "\n",
    "labels2 = list(range(1,4))\n",
    "fracs2 = casualties.groupby('Casualty_Class').size().reset_index()\n",
    "fracs2 = list(fracs2[0]/casualties.shape[0])\n",
    "#explode2 = (0, 0, 0)\n",
    "ws,texts, autotexts=ax2.pie(fracs2, labels=labels2, autopct='%1.1f%%', shadow=False, startangle=90,\n",
    "                                textprops=dict(color=\"black\"))\n",
    "\n",
    "plt.setp(autotexts, size=8, weight=\"bold\")\n",
    "plt.legend(ws, labels2,\n",
    "          title=\"user_type\",\n",
    "          loc=\"center left\",\n",
    "          bbox_to_anchor=(0.95, 0, 1, 1))\n",
    "ax2.axis('equal')\n",
    "ax2.set_title(\"Share of casualties by class\")\n",
    "\n",
    "first_legend = ax1.legend(labels1, loc = 2)\n",
    "second_legend = ax2.legend(labels2, loc = 2)\n",
    "f.subplots_adjust(-0.1,0,2,0.8)\n",
    "plt.show()"
   ]
  },
  {
   "cell_type": "markdown",
   "metadata": {},
   "source": [
    "La mayoría de heridos pertenecen a la banda de edad de **26-35 años y la clase conductor**."
   ]
  },
  {
   "cell_type": "markdown",
   "metadata": {},
   "source": [
    "Veamos ahora los heridos de tipo viandante:"
   ]
  },
  {
   "cell_type": "code",
   "execution_count": 109,
   "metadata": {},
   "outputs": [
    {
     "data": {
      "text/html": [
       "<div>\n",
       "<style scoped>\n",
       "    .dataframe tbody tr th:only-of-type {\n",
       "        vertical-align: middle;\n",
       "    }\n",
       "\n",
       "    .dataframe tbody tr th {\n",
       "        vertical-align: top;\n",
       "    }\n",
       "\n",
       "    .dataframe thead th {\n",
       "        text-align: right;\n",
       "    }\n",
       "</style>\n",
       "<table border=\"1\" class=\"dataframe\">\n",
       "  <thead>\n",
       "    <tr style=\"text-align: right;\">\n",
       "      <th></th>\n",
       "      <th>Pedestrian_Location</th>\n",
       "      <th>total</th>\n",
       "    </tr>\n",
       "  </thead>\n",
       "  <tbody>\n",
       "    <tr>\n",
       "      <th>0</th>\n",
       "      <td>-1</td>\n",
       "      <td>12</td>\n",
       "    </tr>\n",
       "    <tr>\n",
       "      <th>1</th>\n",
       "      <td>1</td>\n",
       "      <td>34248</td>\n",
       "    </tr>\n",
       "    <tr>\n",
       "      <th>2</th>\n",
       "      <td>2</td>\n",
       "      <td>1227</td>\n",
       "    </tr>\n",
       "    <tr>\n",
       "      <th>3</th>\n",
       "      <td>3</td>\n",
       "      <td>872</td>\n",
       "    </tr>\n",
       "    <tr>\n",
       "      <th>4</th>\n",
       "      <td>4</td>\n",
       "      <td>23528</td>\n",
       "    </tr>\n",
       "    <tr>\n",
       "      <th>5</th>\n",
       "      <td>5</td>\n",
       "      <td>131108</td>\n",
       "    </tr>\n",
       "    <tr>\n",
       "      <th>6</th>\n",
       "      <td>6</td>\n",
       "      <td>27851</td>\n",
       "    </tr>\n",
       "    <tr>\n",
       "      <th>7</th>\n",
       "      <td>7</td>\n",
       "      <td>1300</td>\n",
       "    </tr>\n",
       "    <tr>\n",
       "      <th>8</th>\n",
       "      <td>8</td>\n",
       "      <td>8166</td>\n",
       "    </tr>\n",
       "    <tr>\n",
       "      <th>9</th>\n",
       "      <td>9</td>\n",
       "      <td>28817</td>\n",
       "    </tr>\n",
       "    <tr>\n",
       "      <th>10</th>\n",
       "      <td>10</td>\n",
       "      <td>18736</td>\n",
       "    </tr>\n",
       "  </tbody>\n",
       "</table>\n",
       "</div>"
      ],
      "text/plain": [
       "    Pedestrian_Location   total\n",
       "0                    -1      12\n",
       "1                     1   34248\n",
       "2                     2    1227\n",
       "3                     3     872\n",
       "4                     4   23528\n",
       "5                     5  131108\n",
       "6                     6   27851\n",
       "7                     7    1300\n",
       "8                     8    8166\n",
       "9                     9   28817\n",
       "10                   10   18736"
      ]
     },
     "execution_count": 109,
     "metadata": {},
     "output_type": "execute_result"
    }
   ],
   "source": [
    "casualties[casualties.Casualty_Class==3].groupby('Pedestrian_Location').size().reset_index(name='total')"
   ]
  },
  {
   "cell_type": "code",
   "execution_count": 108,
   "metadata": {},
   "outputs": [
    {
     "data": {
      "image/png": "[encoded data removed]",
      "text/plain": [
       "<matplotlib.figure.Figure at 0x253d632c7f0>"
      ]
     },
     "metadata": {},
     "output_type": "display_data"
    }
   ],
   "source": [
    "casualties[casualties.Casualty_Class==3].Pedestrian_Location.value_counts(normalize=True).plot(kind='bar', alpha=.5)\n",
    "plt.show()"
   ]
  },
  {
   "cell_type": "markdown",
   "metadata": {},
   "source": [
    "La mayoria de viandantes heridos de gravedad estaban cruzando la via de forma incorrecta. Y cruzando por el lado del conductor:"
   ]
  },
  {
   "cell_type": "code",
   "execution_count": 110,
   "metadata": {},
   "outputs": [
    {
     "data": {
      "image/png": "[encoded data removed]",
      "text/plain": [
       "<matplotlib.figure.Figure at 0x25401722080>"
      ]
     },
     "metadata": {},
     "output_type": "display_data"
    }
   ],
   "source": [
    "casualties[casualties.Casualty_Class==3].Pedestrian_Movement.value_counts(normalize=True).plot(kind='bar', alpha=.5)\n",
    "plt.show()"
   ]
  },
  {
   "cell_type": "markdown",
   "metadata": {},
   "source": [
    "Analicemos ahora la relación entre las variables del dataframe de vehículos y la gravedad del accidente:"
   ]
  },
  {
   "cell_type": "markdown",
   "metadata": {},
   "source": [
    "La mayoría de accidentes graves (19.4%) se producen en conductores con edades comprendidas entre los 36 y 45 años:"
   ]
  },
  {
   "cell_type": "code",
   "execution_count": 111,
   "metadata": {},
   "outputs": [
    {
     "data": {
      "text/html": [
       "<div>\n",
       "<style scoped>\n",
       "    .dataframe tbody tr th:only-of-type {\n",
       "        vertical-align: middle;\n",
       "    }\n",
       "\n",
       "    .dataframe tbody tr th {\n",
       "        vertical-align: top;\n",
       "    }\n",
       "\n",
       "    .dataframe thead th {\n",
       "        text-align: right;\n",
       "    }\n",
       "</style>\n",
       "<table border=\"1\" class=\"dataframe\">\n",
       "  <thead>\n",
       "    <tr style=\"text-align: right;\">\n",
       "      <th>Accident_Severity</th>\n",
       "      <th>1</th>\n",
       "      <th>2</th>\n",
       "      <th>3</th>\n",
       "    </tr>\n",
       "    <tr>\n",
       "      <th>Age_Band_of_Driver</th>\n",
       "      <th></th>\n",
       "      <th></th>\n",
       "      <th></th>\n",
       "    </tr>\n",
       "  </thead>\n",
       "  <tbody>\n",
       "    <tr>\n",
       "      <th>-1</th>\n",
       "      <td>0.046898</td>\n",
       "      <td>0.084331</td>\n",
       "      <td>0.114669</td>\n",
       "    </tr>\n",
       "    <tr>\n",
       "      <th>1</th>\n",
       "      <td>0.000105</td>\n",
       "      <td>0.000327</td>\n",
       "      <td>0.000305</td>\n",
       "    </tr>\n",
       "    <tr>\n",
       "      <th>2</th>\n",
       "      <td>0.000945</td>\n",
       "      <td>0.002875</td>\n",
       "      <td>0.002901</td>\n",
       "    </tr>\n",
       "    <tr>\n",
       "      <th>3</th>\n",
       "      <td>0.003492</td>\n",
       "      <td>0.009398</td>\n",
       "      <td>0.007314</td>\n",
       "    </tr>\n",
       "    <tr>\n",
       "      <th>4</th>\n",
       "      <td>0.095633</td>\n",
       "      <td>0.105465</td>\n",
       "      <td>0.096296</td>\n",
       "    </tr>\n",
       "    <tr>\n",
       "      <th>5</th>\n",
       "      <td>0.114461</td>\n",
       "      <td>0.109949</td>\n",
       "      <td>0.112085</td>\n",
       "    </tr>\n",
       "    <tr>\n",
       "      <th>6</th>\n",
       "      <td>0.183468</td>\n",
       "      <td>0.188244</td>\n",
       "      <td>0.203559</td>\n",
       "    </tr>\n",
       "    <tr>\n",
       "      <th>7</th>\n",
       "      <td>0.194155</td>\n",
       "      <td>0.190023</td>\n",
       "      <td>0.190979</td>\n",
       "    </tr>\n",
       "    <tr>\n",
       "      <th>8</th>\n",
       "      <td>0.163669</td>\n",
       "      <td>0.148154</td>\n",
       "      <td>0.137608</td>\n",
       "    </tr>\n",
       "    <tr>\n",
       "      <th>9</th>\n",
       "      <td>0.105953</td>\n",
       "      <td>0.091336</td>\n",
       "      <td>0.080173</td>\n",
       "    </tr>\n",
       "    <tr>\n",
       "      <th>10</th>\n",
       "      <td>0.048210</td>\n",
       "      <td>0.042078</td>\n",
       "      <td>0.034334</td>\n",
       "    </tr>\n",
       "    <tr>\n",
       "      <th>11</th>\n",
       "      <td>0.043011</td>\n",
       "      <td>0.027821</td>\n",
       "      <td>0.019777</td>\n",
       "    </tr>\n",
       "  </tbody>\n",
       "</table>\n",
       "</div>"
      ],
      "text/plain": [
       "Accident_Severity          1         2         3\n",
       "Age_Band_of_Driver                              \n",
       "-1                  0.046898  0.084331  0.114669\n",
       " 1                  0.000105  0.000327  0.000305\n",
       " 2                  0.000945  0.002875  0.002901\n",
       " 3                  0.003492  0.009398  0.007314\n",
       " 4                  0.095633  0.105465  0.096296\n",
       " 5                  0.114461  0.109949  0.112085\n",
       " 6                  0.183468  0.188244  0.203559\n",
       " 7                  0.194155  0.190023  0.190979\n",
       " 8                  0.163669  0.148154  0.137608\n",
       " 9                  0.105953  0.091336  0.080173\n",
       " 10                 0.048210  0.042078  0.034334\n",
       " 11                 0.043011  0.027821  0.019777"
      ]
     },
     "execution_count": 111,
     "metadata": {},
     "output_type": "execute_result"
    }
   ],
   "source": [
    "pd.crosstab(df.Age_Band_of_Driver, df.Accident_Severity, normalize='columns')"
   ]
  },
  {
   "cell_type": "markdown",
   "metadata": {},
   "source": [
    "El 62.9% de los accidentes graves se producen en **coches**:"
   ]
  },
  {
   "cell_type": "code",
   "execution_count": 113,
   "metadata": {},
   "outputs": [
    {
     "data": {
      "text/html": [
       "<div>\n",
       "<style scoped>\n",
       "    .dataframe tbody tr th:only-of-type {\n",
       "        vertical-align: middle;\n",
       "    }\n",
       "\n",
       "    .dataframe tbody tr th {\n",
       "        vertical-align: top;\n",
       "    }\n",
       "\n",
       "    .dataframe thead th {\n",
       "        text-align: right;\n",
       "    }\n",
       "</style>\n",
       "<table border=\"1\" class=\"dataframe\">\n",
       "  <thead>\n",
       "    <tr style=\"text-align: right;\">\n",
       "      <th>Accident_Severity</th>\n",
       "      <th>1</th>\n",
       "      <th>2</th>\n",
       "      <th>3</th>\n",
       "    </tr>\n",
       "    <tr>\n",
       "      <th>Vehicle_Type</th>\n",
       "      <th></th>\n",
       "      <th></th>\n",
       "      <th></th>\n",
       "    </tr>\n",
       "  </thead>\n",
       "  <tbody>\n",
       "    <tr>\n",
       "      <th>-1</th>\n",
       "      <td>0.000158</td>\n",
       "      <td>0.000088</td>\n",
       "      <td>0.000167</td>\n",
       "    </tr>\n",
       "    <tr>\n",
       "      <th>1</th>\n",
       "      <td>0.034425</td>\n",
       "      <td>0.078273</td>\n",
       "      <td>0.059217</td>\n",
       "    </tr>\n",
       "    <tr>\n",
       "      <th>2</th>\n",
       "      <td>0.004044</td>\n",
       "      <td>0.017263</td>\n",
       "      <td>0.011811</td>\n",
       "    </tr>\n",
       "    <tr>\n",
       "      <th>3</th>\n",
       "      <td>0.016306</td>\n",
       "      <td>0.040305</td>\n",
       "      <td>0.021012</td>\n",
       "    </tr>\n",
       "    <tr>\n",
       "      <th>4</th>\n",
       "      <td>0.013444</td>\n",
       "      <td>0.018337</td>\n",
       "      <td>0.007068</td>\n",
       "    </tr>\n",
       "    <tr>\n",
       "      <th>5</th>\n",
       "      <td>0.096500</td>\n",
       "      <td>0.075873</td>\n",
       "      <td>0.021175</td>\n",
       "    </tr>\n",
       "    <tr>\n",
       "      <th>8</th>\n",
       "      <td>0.012236</td>\n",
       "      <td>0.016612</td>\n",
       "      <td>0.017640</td>\n",
       "    </tr>\n",
       "    <tr>\n",
       "      <th>9</th>\n",
       "      <td>0.628916</td>\n",
       "      <td>0.635452</td>\n",
       "      <td>0.749712</td>\n",
       "    </tr>\n",
       "    <tr>\n",
       "      <th>10</th>\n",
       "      <td>0.004280</td>\n",
       "      <td>0.002968</td>\n",
       "      <td>0.002744</td>\n",
       "    </tr>\n",
       "    <tr>\n",
       "      <th>11</th>\n",
       "      <td>0.022582</td>\n",
       "      <td>0.023677</td>\n",
       "      <td>0.025911</td>\n",
       "    </tr>\n",
       "    <tr>\n",
       "      <th>16</th>\n",
       "      <td>0.000656</td>\n",
       "      <td>0.000737</td>\n",
       "      <td>0.000384</td>\n",
       "    </tr>\n",
       "    <tr>\n",
       "      <th>17</th>\n",
       "      <td>0.006722</td>\n",
       "      <td>0.003351</td>\n",
       "      <td>0.001850</td>\n",
       "    </tr>\n",
       "    <tr>\n",
       "      <th>18</th>\n",
       "      <td>0.000236</td>\n",
       "      <td>0.000123</td>\n",
       "      <td>0.000075</td>\n",
       "    </tr>\n",
       "    <tr>\n",
       "      <th>19</th>\n",
       "      <td>0.054933</td>\n",
       "      <td>0.044425</td>\n",
       "      <td>0.046087</td>\n",
       "    </tr>\n",
       "    <tr>\n",
       "      <th>20</th>\n",
       "      <td>0.014573</td>\n",
       "      <td>0.007764</td>\n",
       "      <td>0.007371</td>\n",
       "    </tr>\n",
       "    <tr>\n",
       "      <th>21</th>\n",
       "      <td>0.077436</td>\n",
       "      <td>0.024901</td>\n",
       "      <td>0.019559</td>\n",
       "    </tr>\n",
       "    <tr>\n",
       "      <th>22</th>\n",
       "      <td>0.000394</td>\n",
       "      <td>0.000254</td>\n",
       "      <td>0.000135</td>\n",
       "    </tr>\n",
       "    <tr>\n",
       "      <th>23</th>\n",
       "      <td>0.000000</td>\n",
       "      <td>0.000011</td>\n",
       "      <td>0.000006</td>\n",
       "    </tr>\n",
       "    <tr>\n",
       "      <th>90</th>\n",
       "      <td>0.011948</td>\n",
       "      <td>0.009226</td>\n",
       "      <td>0.007869</td>\n",
       "    </tr>\n",
       "    <tr>\n",
       "      <th>97</th>\n",
       "      <td>0.000079</td>\n",
       "      <td>0.000228</td>\n",
       "      <td>0.000076</td>\n",
       "    </tr>\n",
       "    <tr>\n",
       "      <th>98</th>\n",
       "      <td>0.000131</td>\n",
       "      <td>0.000131</td>\n",
       "      <td>0.000128</td>\n",
       "    </tr>\n",
       "  </tbody>\n",
       "</table>\n",
       "</div>"
      ],
      "text/plain": [
       "Accident_Severity         1         2         3\n",
       "Vehicle_Type                                   \n",
       "-1                 0.000158  0.000088  0.000167\n",
       " 1                 0.034425  0.078273  0.059217\n",
       " 2                 0.004044  0.017263  0.011811\n",
       " 3                 0.016306  0.040305  0.021012\n",
       " 4                 0.013444  0.018337  0.007068\n",
       " 5                 0.096500  0.075873  0.021175\n",
       " 8                 0.012236  0.016612  0.017640\n",
       " 9                 0.628916  0.635452  0.749712\n",
       " 10                0.004280  0.002968  0.002744\n",
       " 11                0.022582  0.023677  0.025911\n",
       " 16                0.000656  0.000737  0.000384\n",
       " 17                0.006722  0.003351  0.001850\n",
       " 18                0.000236  0.000123  0.000075\n",
       " 19                0.054933  0.044425  0.046087\n",
       " 20                0.014573  0.007764  0.007371\n",
       " 21                0.077436  0.024901  0.019559\n",
       " 22                0.000394  0.000254  0.000135\n",
       " 23                0.000000  0.000011  0.000006\n",
       " 90                0.011948  0.009226  0.007869\n",
       " 97                0.000079  0.000228  0.000076\n",
       " 98                0.000131  0.000131  0.000128"
      ]
     },
     "execution_count": 113,
     "metadata": {},
     "output_type": "execute_result"
    }
   ],
   "source": [
    "pd.crosstab(df.Vehicle_Type, df.Accident_Severity, normalize='columns')"
   ]
  },
  {
   "cell_type": "markdown",
   "metadata": {},
   "source": [
    "El 55.87% de los accidentes graves se producen cuando el vehículo está circulando hacia delante:"
   ]
  },
  {
   "cell_type": "code",
   "execution_count": 114,
   "metadata": {},
   "outputs": [
    {
     "data": {
      "text/html": [
       "<div>\n",
       "<style scoped>\n",
       "    .dataframe tbody tr th:only-of-type {\n",
       "        vertical-align: middle;\n",
       "    }\n",
       "\n",
       "    .dataframe tbody tr th {\n",
       "        vertical-align: top;\n",
       "    }\n",
       "\n",
       "    .dataframe thead th {\n",
       "        text-align: right;\n",
       "    }\n",
       "</style>\n",
       "<table border=\"1\" class=\"dataframe\">\n",
       "  <thead>\n",
       "    <tr style=\"text-align: right;\">\n",
       "      <th>Accident_Severity</th>\n",
       "      <th>1</th>\n",
       "      <th>2</th>\n",
       "      <th>3</th>\n",
       "    </tr>\n",
       "    <tr>\n",
       "      <th>Vehicle_Manoeuvre</th>\n",
       "      <th></th>\n",
       "      <th></th>\n",
       "      <th></th>\n",
       "    </tr>\n",
       "  </thead>\n",
       "  <tbody>\n",
       "    <tr>\n",
       "      <th>-1</th>\n",
       "      <td>0.000394</td>\n",
       "      <td>0.000212</td>\n",
       "      <td>0.000380</td>\n",
       "    </tr>\n",
       "    <tr>\n",
       "      <th>1</th>\n",
       "      <td>0.007536</td>\n",
       "      <td>0.011959</td>\n",
       "      <td>0.014014</td>\n",
       "    </tr>\n",
       "    <tr>\n",
       "      <th>2</th>\n",
       "      <td>0.044324</td>\n",
       "      <td>0.042874</td>\n",
       "      <td>0.036739</td>\n",
       "    </tr>\n",
       "    <tr>\n",
       "      <th>3</th>\n",
       "      <td>0.013681</td>\n",
       "      <td>0.025171</td>\n",
       "      <td>0.074724</td>\n",
       "    </tr>\n",
       "    <tr>\n",
       "      <th>4</th>\n",
       "      <td>0.017042</td>\n",
       "      <td>0.036337</td>\n",
       "      <td>0.082309</td>\n",
       "    </tr>\n",
       "    <tr>\n",
       "      <th>5</th>\n",
       "      <td>0.014022</td>\n",
       "      <td>0.028678</td>\n",
       "      <td>0.039247</td>\n",
       "    </tr>\n",
       "    <tr>\n",
       "      <th>6</th>\n",
       "      <td>0.004858</td>\n",
       "      <td>0.008452</td>\n",
       "      <td>0.007348</td>\n",
       "    </tr>\n",
       "    <tr>\n",
       "      <th>7</th>\n",
       "      <td>0.012053</td>\n",
       "      <td>0.026331</td>\n",
       "      <td>0.033100</td>\n",
       "    </tr>\n",
       "    <tr>\n",
       "      <th>8</th>\n",
       "      <td>0.000735</td>\n",
       "      <td>0.002285</td>\n",
       "      <td>0.006067</td>\n",
       "    </tr>\n",
       "    <tr>\n",
       "      <th>9</th>\n",
       "      <td>0.055090</td>\n",
       "      <td>0.102288</td>\n",
       "      <td>0.095921</td>\n",
       "    </tr>\n",
       "    <tr>\n",
       "      <th>10</th>\n",
       "      <td>0.005672</td>\n",
       "      <td>0.010373</td>\n",
       "      <td>0.017736</td>\n",
       "    </tr>\n",
       "    <tr>\n",
       "      <th>11</th>\n",
       "      <td>0.005435</td>\n",
       "      <td>0.006513</td>\n",
       "      <td>0.008793</td>\n",
       "    </tr>\n",
       "    <tr>\n",
       "      <th>12</th>\n",
       "      <td>0.006985</td>\n",
       "      <td>0.008155</td>\n",
       "      <td>0.010584</td>\n",
       "    </tr>\n",
       "    <tr>\n",
       "      <th>13</th>\n",
       "      <td>0.040070</td>\n",
       "      <td>0.030650</td>\n",
       "      <td>0.018541</td>\n",
       "    </tr>\n",
       "    <tr>\n",
       "      <th>14</th>\n",
       "      <td>0.006748</td>\n",
       "      <td>0.015913</td>\n",
       "      <td>0.012432</td>\n",
       "    </tr>\n",
       "    <tr>\n",
       "      <th>15</th>\n",
       "      <td>0.003440</td>\n",
       "      <td>0.006376</td>\n",
       "      <td>0.006005</td>\n",
       "    </tr>\n",
       "    <tr>\n",
       "      <th>16</th>\n",
       "      <td>0.100780</td>\n",
       "      <td>0.058289</td>\n",
       "      <td>0.033944</td>\n",
       "    </tr>\n",
       "    <tr>\n",
       "      <th>17</th>\n",
       "      <td>0.102355</td>\n",
       "      <td>0.062754</td>\n",
       "      <td>0.038527</td>\n",
       "    </tr>\n",
       "    <tr>\n",
       "      <th>18</th>\n",
       "      <td>0.558780</td>\n",
       "      <td>0.516391</td>\n",
       "      <td>0.463590</td>\n",
       "    </tr>\n",
       "  </tbody>\n",
       "</table>\n",
       "</div>"
      ],
      "text/plain": [
       "Accident_Severity         1         2         3\n",
       "Vehicle_Manoeuvre                              \n",
       "-1                 0.000394  0.000212  0.000380\n",
       " 1                 0.007536  0.011959  0.014014\n",
       " 2                 0.044324  0.042874  0.036739\n",
       " 3                 0.013681  0.025171  0.074724\n",
       " 4                 0.017042  0.036337  0.082309\n",
       " 5                 0.014022  0.028678  0.039247\n",
       " 6                 0.004858  0.008452  0.007348\n",
       " 7                 0.012053  0.026331  0.033100\n",
       " 8                 0.000735  0.002285  0.006067\n",
       " 9                 0.055090  0.102288  0.095921\n",
       " 10                0.005672  0.010373  0.017736\n",
       " 11                0.005435  0.006513  0.008793\n",
       " 12                0.006985  0.008155  0.010584\n",
       " 13                0.040070  0.030650  0.018541\n",
       " 14                0.006748  0.015913  0.012432\n",
       " 15                0.003440  0.006376  0.006005\n",
       " 16                0.100780  0.058289  0.033944\n",
       " 17                0.102355  0.062754  0.038527\n",
       " 18                0.558780  0.516391  0.463590"
      ]
     },
     "execution_count": 114,
     "metadata": {},
     "output_type": "execute_result"
    }
   ],
   "source": [
    "pd.crosstab(df.Vehicle_Manoeuvre, df.Accident_Severity, normalize='columns')"
   ]
  },
  {
   "cell_type": "markdown",
   "metadata": {},
   "source": [
    "En los accidentes graves, el **impacto fue frontal** el 59% de las ocasiones:"
   ]
  },
  {
   "cell_type": "code",
   "execution_count": 115,
   "metadata": {},
   "outputs": [
    {
     "data": {
      "text/html": [
       "<div>\n",
       "<style scoped>\n",
       "    .dataframe tbody tr th:only-of-type {\n",
       "        vertical-align: middle;\n",
       "    }\n",
       "\n",
       "    .dataframe tbody tr th {\n",
       "        vertical-align: top;\n",
       "    }\n",
       "\n",
       "    .dataframe thead th {\n",
       "        text-align: right;\n",
       "    }\n",
       "</style>\n",
       "<table border=\"1\" class=\"dataframe\">\n",
       "  <thead>\n",
       "    <tr style=\"text-align: right;\">\n",
       "      <th>Accident_Severity</th>\n",
       "      <th>1</th>\n",
       "      <th>2</th>\n",
       "      <th>3</th>\n",
       "    </tr>\n",
       "    <tr>\n",
       "      <th>1st_Point_of_Impact</th>\n",
       "      <th></th>\n",
       "      <th></th>\n",
       "      <th></th>\n",
       "    </tr>\n",
       "  </thead>\n",
       "  <tbody>\n",
       "    <tr>\n",
       "      <th>-1</th>\n",
       "      <td>0.001129</td>\n",
       "      <td>0.000206</td>\n",
       "      <td>0.000172</td>\n",
       "    </tr>\n",
       "    <tr>\n",
       "      <th>0</th>\n",
       "      <td>0.087336</td>\n",
       "      <td>0.077298</td>\n",
       "      <td>0.063740</td>\n",
       "    </tr>\n",
       "    <tr>\n",
       "      <th>1</th>\n",
       "      <td>0.590132</td>\n",
       "      <td>0.534651</td>\n",
       "      <td>0.482798</td>\n",
       "    </tr>\n",
       "    <tr>\n",
       "      <th>2</th>\n",
       "      <td>0.076386</td>\n",
       "      <td>0.097463</td>\n",
       "      <td>0.193105</td>\n",
       "    </tr>\n",
       "    <tr>\n",
       "      <th>3</th>\n",
       "      <td>0.134286</td>\n",
       "      <td>0.154128</td>\n",
       "      <td>0.137649</td>\n",
       "    </tr>\n",
       "    <tr>\n",
       "      <th>4</th>\n",
       "      <td>0.110732</td>\n",
       "      <td>0.136254</td>\n",
       "      <td>0.122536</td>\n",
       "    </tr>\n",
       "  </tbody>\n",
       "</table>\n",
       "</div>"
      ],
      "text/plain": [
       "Accident_Severity           1         2         3\n",
       "1st_Point_of_Impact                              \n",
       "-1                   0.001129  0.000206  0.000172\n",
       " 0                   0.087336  0.077298  0.063740\n",
       " 1                   0.590132  0.534651  0.482798\n",
       " 2                   0.076386  0.097463  0.193105\n",
       " 3                   0.134286  0.154128  0.137649\n",
       " 4                   0.110732  0.136254  0.122536"
      ]
     },
     "execution_count": 115,
     "metadata": {},
     "output_type": "execute_result"
    }
   ],
   "source": [
    "pd.crosstab(df['1st_Point_of_Impact'], df.Accident_Severity, normalize='columns')"
   ]
  },
  {
   "cell_type": "markdown",
   "metadata": {},
   "source": [
    "Analicemos ahora la distribución de algunas variables mediante gráficos box-plot."
   ]
  },
  {
   "cell_type": "markdown",
   "metadata": {},
   "source": [
    "Se observa que en los accidentes graves, la edad del conductor es ligeramente inferior en hombres que en mujeres, en torno a 40 años:"
   ]
  },
  {
   "cell_type": "code",
   "execution_count": 116,
   "metadata": {},
   "outputs": [
    {
     "data": {
      "image/png": "[encoded data removed]",
      "text/plain": [
       "<matplotlib.figure.Figure at 0x254019bd1d0>"
      ]
     },
     "metadata": {},
     "output_type": "display_data"
    }
   ],
   "source": [
    "df.loc[(df.Accident_Severity ==1) & (df.Sex_of_Driver.isin([1,2]))].boxplot(column=['Age_of_Driver'], by='Sex_of_Driver')\n",
    "plt.show()"
   ]
  },
  {
   "cell_type": "markdown",
   "metadata": {},
   "source": [
    "Y que la **edad de los conductores** en los accidentes graves ha ido **aumentando** con el paso de los años:"
   ]
  },
  {
   "cell_type": "code",
   "execution_count": 117,
   "metadata": {},
   "outputs": [
    {
     "data": {
      "image/png": "[encoded data removed]",
      "text/plain": [
       "<matplotlib.figure.Figure at 0x25402125160>"
      ]
     },
     "metadata": {},
     "output_type": "display_data"
    }
   ],
   "source": [
    "df.loc[(df.Accident_Severity ==1) & (df.Sex_of_Driver.isin([1,2]))].boxplot(column=['Age_of_Driver'], by='year')\n",
    "plt.show()"
   ]
  },
  {
   "cell_type": "markdown",
   "metadata": {},
   "source": [
    "Veamos ahora la función de densidad de probabilidad por gravedad del accidente para la edad del conductor, capacidad del motor y antigüedad del vehículo:"
   ]
  },
  {
   "cell_type": "code",
   "execution_count": 118,
   "metadata": {},
   "outputs": [
    {
     "name": "stderr",
     "output_type": "stream",
     "text": [
      "C:\\Users\\asus\\Anaconda3\\lib\\site-packages\\ipykernel_launcher.py:5: UserWarning: Boolean Series key will be reindexed to match DataFrame index.\n",
      "  \"\"\"\n"
     ]
    },
    {
     "data": {
      "image/png": "[encoded data removed]",
      "text/plain": [
       "<matplotlib.figure.Figure at 0x25401e74828>"
      ]
     },
     "metadata": {},
     "output_type": "display_data"
    }
   ],
   "source": [
    "severities=[1, 2, 3]\n",
    "fig = plt.figure(figsize=(9,7))\n",
    "\n",
    "for severity in severities:\n",
    "    df.loc[df.year == 2010][df.Accident_Severity == severity].Age_of_Driver.plot(kind='kde')\n",
    "plt.legend(('Fatal', 'Serious', 'Slight'), loc=0)\n",
    "plt.xlabel('Driver Age')\n",
    "plt.ylabel('Density')\n",
    "plt.grid(True)\n",
    "plt.title('Probability distribution for Driver Age by accident severity')\n",
    "plt.xlim(10, 100)\n",
    "plt.show()"
   ]
  },
  {
   "cell_type": "markdown",
   "metadata": {},
   "source": [
    "Se observan dos picos en la distribución, en torno a los 20 y 40 años. La probabilidad de accidente grave es mayor entorno a los **40 años**."
   ]
  },
  {
   "cell_type": "code",
   "execution_count": 122,
   "metadata": {},
   "outputs": [
    {
     "name": "stderr",
     "output_type": "stream",
     "text": [
      "C:\\Users\\asus\\Anaconda3\\lib\\site-packages\\ipykernel_launcher.py:5: UserWarning: Boolean Series key will be reindexed to match DataFrame index.\n",
      "  \"\"\"\n"
     ]
    },
    {
     "data": {
      "image/png": "[encoded data removed]",
      "text/plain": [
       "<matplotlib.figure.Figure at 0x254020872b0>"
      ]
     },
     "metadata": {},
     "output_type": "display_data"
    }
   ],
   "source": [
    "severities=[1, 2, 3]\n",
    "fig = plt.figure(figsize=(9,7))\n",
    "\n",
    "for severity in severities:\n",
    "    df.loc[df.year == 2013][df.Accident_Severity == severity]['Engine_Capacity_(CC)'].plot(kind='kde')\n",
    "plt.legend(('Fatal', 'Serious', 'Slight'), loc=0)\n",
    "plt.xlabel('Engine capacity (CC)')\n",
    "plt.ylabel('Density')\n",
    "plt.grid(True)\n",
    "plt.title('Probability distribution for Engine capacity by accident severity')\n",
    "plt.xlim(0, 10000)\n",
    "plt.show()"
   ]
  },
  {
   "cell_type": "markdown",
   "metadata": {},
   "source": [
    "La mayoria de accidentes se dan en vehículos de entre 1000 y 2000 cc de capacidad en el motor."
   ]
  },
  {
   "cell_type": "code",
   "execution_count": 123,
   "metadata": {},
   "outputs": [
    {
     "name": "stderr",
     "output_type": "stream",
     "text": [
      "C:\\Users\\asus\\Anaconda3\\lib\\site-packages\\ipykernel_launcher.py:5: UserWarning: Boolean Series key will be reindexed to match DataFrame index.\n",
      "  \"\"\"\n"
     ]
    },
    {
     "data": {
      "image/png": "[encoded data removed]",
      "text/plain": [
       "<matplotlib.figure.Figure at 0x254114273c8>"
      ]
     },
     "metadata": {},
     "output_type": "display_data"
    }
   ],
   "source": [
    "severities=[1, 2, 3]\n",
    "fig = plt.figure(figsize=(9,7))\n",
    "\n",
    "for severity in severities:\n",
    "    df.loc[df.year == 2013][df.Accident_Severity == severity]['Age_of_Vehicle'].plot(kind='kde')\n",
    "plt.legend(('Fatal', 'Serious', 'Slight'), loc=0)\n",
    "plt.xlabel('Vehicle Age')\n",
    "plt.ylabel('Density')\n",
    "plt.grid(True)\n",
    "plt.title('Probability distribution for Vehicle Age by accident severity')\n",
    "plt.xlim(0, 20)\n",
    "plt.show()"
   ]
  },
  {
   "cell_type": "markdown",
   "metadata": {},
   "source": [
    "En general, se puede observar que la probabilidad de accidente disminuye cuando el vehículo tiene mas de **10 años de antigüedad.**"
   ]
  },
  {
   "cell_type": "markdown",
   "metadata": {},
   "source": [
    "## Diseño del modelo"
   ]
  },
  {
   "cell_type": "markdown",
   "metadata": {},
   "source": [
    "Dado que disponemos de información diaria de los accidentes desde 2005 a 2015, podríamos emplear un modelo **ARIMA** para realizar predicciones sobre el número de accidentes en una fecha futura."
   ]
  },
  {
   "cell_type": "markdown",
   "metadata": {},
   "source": [
    "Representamos la serie temporal:"
   ]
  },
  {
   "cell_type": "code",
   "execution_count": 125,
   "metadata": {},
   "outputs": [],
   "source": [
    "seriest = accidentes[(accidentes.Accident_Severity.isin([1,2]))&(accidentes.year.isin([2012,2013]))].groupby('Date').size().reset_index(name='accidentes')\n",
    "seriest = seriest.set_index('Date')"
   ]
  },
  {
   "cell_type": "code",
   "execution_count": 127,
   "metadata": {},
   "outputs": [
    {
     "data": {
      "image/png": "[encoded data removed]",
      "text/plain": [
       "<matplotlib.figure.Figure at 0x2541973d908>"
      ]
     },
     "metadata": {},
     "output_type": "display_data"
    }
   ],
   "source": [
    "fig = plt.figure(figsize=(12,5))\n",
    "seriest.accidentes.plot()\n",
    "plt.ylabel('accidentes')\n",
    "plt.xlabel('Fecha')\n",
    "plt.title('Serie temporal de los accidentes durante 2012 y 2013')\n",
    "plt.show()"
   ]
  },
  {
   "cell_type": "markdown",
   "metadata": {},
   "source": [
    "Comprobaríamos que la serie es **estacionaria, sin tendencia** y que el número de accidentes diarios sigue, aproximadamente, una **distribución normal** centrada en 60:"
   ]
  },
  {
   "cell_type": "code",
   "execution_count": 128,
   "metadata": {},
   "outputs": [
    {
     "data": {
      "image/png": "[encoded data removed]",
      "text/plain": [
       "<matplotlib.figure.Figure at 0x25419743c88>"
      ]
     },
     "metadata": {},
     "output_type": "display_data"
    }
   ],
   "source": [
    "seriest.accidentes.plot.kde()\n",
    "plt.show()"
   ]
  },
  {
   "cell_type": "code",
   "execution_count": 131,
   "metadata": {},
   "outputs": [
    {
     "data": {
      "image/png": "[encoded data removed]",
      "text/plain": [
       "<matplotlib.figure.Figure at 0x2541993a940>"
      ]
     },
     "metadata": {},
     "output_type": "display_data"
    }
   ],
   "source": [
    "seriest.boxplot()\n",
    "plt.show()"
   ]
  },
  {
   "cell_type": "markdown",
   "metadata": {},
   "source": [
    "Una vez comprobada la estacionariedad de la serie, tendríamos que hallar el tipo de modelo que mejor se ajusta a los datos utilizando la **función de autocorrelación parcial** y observando el comportamiento de los **retardos**:"
   ]
  },
  {
   "cell_type": "code",
   "execution_count": 129,
   "metadata": {},
   "outputs": [
    {
     "data": {
      "image/png": "[encoded data removed]",
      "text/plain": [
       "<matplotlib.figure.Figure at 0x254197c8470>"
      ]
     },
     "metadata": {},
     "output_type": "display_data"
    }
   ],
   "source": [
    "fig = plt.figure(figsize=(10,5))\n",
    "autocorrelation_plot(seriest.accidentes)\n",
    "plt.show()"
   ]
  },
  {
   "cell_type": "markdown",
   "metadata": {},
   "source": [
    "Se observa que la función de autocorrelación decrece lentamente hacia cero, aproximadamente con exponenciales atenuados y ondas sinusoidales por lo que tendríamos que hallar un modelo **ARIMA (p,d,q).**"
   ]
  },
  {
   "cell_type": "markdown",
   "metadata": {},
   "source": [
    "Sin embargo, en este caso nos vamos a centrar en un modelo de **clasificación** empleando un **Random Forest** para clasificar la **gravedad de los accidentes** utilizando unas determinadas variables del dataframe."
   ]
  },
  {
   "cell_type": "markdown",
   "metadata": {},
   "source": [
    "### Tratamiento de missings y outliers"
   ]
  },
  {
   "cell_type": "markdown",
   "metadata": {},
   "source": [
    "Seleccionamos las variables de cada dataframe y vemos cual es la forma correcta de tratar los datos nulos y los atípicos."
   ]
  },
  {
   "cell_type": "markdown",
   "metadata": {},
   "source": [
    "Para las variables categorizadas, vemos que el porcentaje de observacion con datos missings es no significativo por lo que se puede eliminar sus filas del dataframe sin problema."
   ]
  },
  {
   "cell_type": "code",
   "execution_count": 152,
   "metadata": {},
   "outputs": [],
   "source": [
    "ds1 = accidentes[['Accident_Index','year', 'Number_of_Vehicles', 'Number_of_Casualties', 'Road_Type', 'Speed_limit', 'Light_Conditions', 'Weather_Conditions', 'Road_Surface_Conditions', 'Carriageway_Hazards', 'Urban_or_Rural_Area', 'Junction_Control', 'Pedestrian_Crossing-Human_Control','Pedestrian_Crossing-Physical_Facilities', 'Accident_Severity']]"
   ]
  },
  {
   "cell_type": "markdown",
   "metadata": {},
   "source": [
    "Para las variables continuas definimos los **outliers** como aquellos valores que son superiores al **Q3 + 1.5x*(Rango Intercuartílico)*.** En las variables categorizadas no tiene sentido hablar de outliers."
   ]
  },
  {
   "cell_type": "code",
   "execution_count": 134,
   "metadata": {},
   "outputs": [
    {
     "data": {
      "text/html": [
       "<div>\n",
       "<style scoped>\n",
       "    .dataframe tbody tr th:only-of-type {\n",
       "        vertical-align: middle;\n",
       "    }\n",
       "\n",
       "    .dataframe tbody tr th {\n",
       "        vertical-align: top;\n",
       "    }\n",
       "\n",
       "    .dataframe thead th {\n",
       "        text-align: right;\n",
       "    }\n",
       "</style>\n",
       "<table border=\"1\" class=\"dataframe\">\n",
       "  <thead>\n",
       "    <tr style=\"text-align: right;\">\n",
       "      <th></th>\n",
       "      <th>Number_of_Vehicles</th>\n",
       "      <th>Number_of_Casualties</th>\n",
       "      <th>Speed_limit</th>\n",
       "    </tr>\n",
       "  </thead>\n",
       "  <tbody>\n",
       "    <tr>\n",
       "      <th>count</th>\n",
       "      <td>1.780653e+06</td>\n",
       "      <td>1.780653e+06</td>\n",
       "      <td>1.780653e+06</td>\n",
       "    </tr>\n",
       "    <tr>\n",
       "      <th>mean</th>\n",
       "      <td>1.832064e+00</td>\n",
       "      <td>1.349454e+00</td>\n",
       "      <td>3.902833e+01</td>\n",
       "    </tr>\n",
       "    <tr>\n",
       "      <th>std</th>\n",
       "      <td>7.148732e-01</td>\n",
       "      <td>8.237479e-01</td>\n",
       "      <td>1.415857e+01</td>\n",
       "    </tr>\n",
       "    <tr>\n",
       "      <th>min</th>\n",
       "      <td>1.000000e+00</td>\n",
       "      <td>1.000000e+00</td>\n",
       "      <td>0.000000e+00</td>\n",
       "    </tr>\n",
       "    <tr>\n",
       "      <th>25%</th>\n",
       "      <td>1.000000e+00</td>\n",
       "      <td>1.000000e+00</td>\n",
       "      <td>3.000000e+01</td>\n",
       "    </tr>\n",
       "    <tr>\n",
       "      <th>50%</th>\n",
       "      <td>2.000000e+00</td>\n",
       "      <td>1.000000e+00</td>\n",
       "      <td>3.000000e+01</td>\n",
       "    </tr>\n",
       "    <tr>\n",
       "      <th>75%</th>\n",
       "      <td>2.000000e+00</td>\n",
       "      <td>1.000000e+00</td>\n",
       "      <td>5.000000e+01</td>\n",
       "    </tr>\n",
       "    <tr>\n",
       "      <th>max</th>\n",
       "      <td>6.700000e+01</td>\n",
       "      <td>9.300000e+01</td>\n",
       "      <td>7.000000e+01</td>\n",
       "    </tr>\n",
       "  </tbody>\n",
       "</table>\n",
       "</div>"
      ],
      "text/plain": [
       "       Number_of_Vehicles  Number_of_Casualties   Speed_limit\n",
       "count        1.780653e+06          1.780653e+06  1.780653e+06\n",
       "mean         1.832064e+00          1.349454e+00  3.902833e+01\n",
       "std          7.148732e-01          8.237479e-01  1.415857e+01\n",
       "min          1.000000e+00          1.000000e+00  0.000000e+00\n",
       "25%          1.000000e+00          1.000000e+00  3.000000e+01\n",
       "50%          2.000000e+00          1.000000e+00  3.000000e+01\n",
       "75%          2.000000e+00          1.000000e+00  5.000000e+01\n",
       "max          6.700000e+01          9.300000e+01  7.000000e+01"
      ]
     },
     "execution_count": 134,
     "metadata": {},
     "output_type": "execute_result"
    }
   ],
   "source": [
    "ds1[['Number_of_Vehicles', 'Number_of_Casualties', 'Speed_limit']].describe()"
   ]
  },
  {
   "cell_type": "code",
   "execution_count": 153,
   "metadata": {
    "collapsed": true
   },
   "outputs": [],
   "source": [
    "ds1_cleaned = ds1[(ds1.Weather_Conditions!=-1)&(ds1.Road_Surface_Conditions!=-1)&(ds1.Carriageway_Hazards!=-1)&(ds1['Pedestrian_Crossing-Human_Control']!=-1)&(ds1['Pedestrian_Crossing-Physical_Facilities']!=-1)&(ds1.Junction_Control!=-1)]"
   ]
  },
  {
   "cell_type": "markdown",
   "metadata": {},
   "source": [
    "Del dataframe de vehículos seleccionamos las variables de edad del conductor, antigüedad del vehículo, punto de colisión, tipo de vehículo y capacidad del motor:"
   ]
  },
  {
   "cell_type": "code",
   "execution_count": 174,
   "metadata": {},
   "outputs": [],
   "source": [
    "ds2 = vehiculos[['Accident_Index', 'Age_of_Driver', 'Age_of_Vehicle', 'Engine_Capacity_(CC)', '1st_Point_of_Impact', 'Vehicle_Type']]"
   ]
  },
  {
   "cell_type": "code",
   "execution_count": 137,
   "metadata": {},
   "outputs": [
    {
     "data": {
      "text/html": [
       "<div>\n",
       "<style scoped>\n",
       "    .dataframe tbody tr th:only-of-type {\n",
       "        vertical-align: middle;\n",
       "    }\n",
       "\n",
       "    .dataframe tbody tr th {\n",
       "        vertical-align: top;\n",
       "    }\n",
       "\n",
       "    .dataframe thead th {\n",
       "        text-align: right;\n",
       "    }\n",
       "</style>\n",
       "<table border=\"1\" class=\"dataframe\">\n",
       "  <thead>\n",
       "    <tr style=\"text-align: right;\">\n",
       "      <th></th>\n",
       "      <th>Age_of_Driver</th>\n",
       "      <th>Age_of_Vehicle</th>\n",
       "      <th>Engine_Capacity_(CC)</th>\n",
       "    </tr>\n",
       "  </thead>\n",
       "  <tbody>\n",
       "    <tr>\n",
       "      <th>count</th>\n",
       "      <td>1.967520e+06</td>\n",
       "      <td>1.967520e+06</td>\n",
       "      <td>1.967520e+06</td>\n",
       "    </tr>\n",
       "    <tr>\n",
       "      <th>mean</th>\n",
       "      <td>3.916419e+01</td>\n",
       "      <td>7.191146e+00</td>\n",
       "      <td>1.909125e+03</td>\n",
       "    </tr>\n",
       "    <tr>\n",
       "      <th>std</th>\n",
       "      <td>1.591087e+01</td>\n",
       "      <td>4.492668e+00</td>\n",
       "      <td>1.710781e+03</td>\n",
       "    </tr>\n",
       "    <tr>\n",
       "      <th>min</th>\n",
       "      <td>4.000000e+00</td>\n",
       "      <td>1.000000e+00</td>\n",
       "      <td>1.000000e+00</td>\n",
       "    </tr>\n",
       "    <tr>\n",
       "      <th>25%</th>\n",
       "      <td>2.600000e+01</td>\n",
       "      <td>4.000000e+00</td>\n",
       "      <td>1.298000e+03</td>\n",
       "    </tr>\n",
       "    <tr>\n",
       "      <th>50%</th>\n",
       "      <td>3.700000e+01</td>\n",
       "      <td>7.000000e+00</td>\n",
       "      <td>1.598000e+03</td>\n",
       "    </tr>\n",
       "    <tr>\n",
       "      <th>75%</th>\n",
       "      <td>4.900000e+01</td>\n",
       "      <td>1.000000e+01</td>\n",
       "      <td>1.994000e+03</td>\n",
       "    </tr>\n",
       "    <tr>\n",
       "      <th>max</th>\n",
       "      <td>1.000000e+02</td>\n",
       "      <td>1.110000e+02</td>\n",
       "      <td>9.999900e+04</td>\n",
       "    </tr>\n",
       "  </tbody>\n",
       "</table>\n",
       "</div>"
      ],
      "text/plain": [
       "       Age_of_Driver  Age_of_Vehicle  Engine_Capacity_(CC)\n",
       "count   1.967520e+06    1.967520e+06          1.967520e+06\n",
       "mean    3.916419e+01    7.191146e+00          1.909125e+03\n",
       "std     1.591087e+01    4.492668e+00          1.710781e+03\n",
       "min     4.000000e+00    1.000000e+00          1.000000e+00\n",
       "25%     2.600000e+01    4.000000e+00          1.298000e+03\n",
       "50%     3.700000e+01    7.000000e+00          1.598000e+03\n",
       "75%     4.900000e+01    1.000000e+01          1.994000e+03\n",
       "max     1.000000e+02    1.110000e+02          9.999900e+04"
      ]
     },
     "execution_count": 137,
     "metadata": {},
     "output_type": "execute_result"
    }
   ],
   "source": [
    "ds2[['Age_of_Driver', 'Age_of_Vehicle', 'Engine_Capacity_(CC)']][(ds2.Age_of_Driver>0)&(ds2.Age_of_Vehicle>0)&(ds2['Engine_Capacity_(CC)']>0)].describe()"
   ]
  },
  {
   "cell_type": "markdown",
   "metadata": {},
   "source": [
    "Para el caso de edad del conductor se considera outlier aquellas por encima de 85 años, para capacidad del motor aquellas superiores a 4000 CC y para antigüedad del vehiculo aquellos superiores a 20 años."
   ]
  },
  {
   "cell_type": "code",
   "execution_count": 182,
   "metadata": {
    "collapsed": true
   },
   "outputs": [],
   "source": [
    "ds2_cleaned = ds2[(ds2.Age_of_Driver<85) & (ds2.Age_of_Vehicle<20) & (ds2['Engine_Capacity_(CC)']<4000)&(ds2.Age_of_Driver>0)&(ds2.Age_of_Vehicle>=0)&(ds2['Engine_Capacity_(CC)']>0)]"
   ]
  },
  {
   "cell_type": "markdown",
   "metadata": {},
   "source": [
    "Definimos mediante la técnica de one hot encoding las variables binarias de si hubo impacto frontal o no, y si el vehículo es moto, coche u otro tipo:"
   ]
  },
  {
   "cell_type": "code",
   "execution_count": 183,
   "metadata": {},
   "outputs": [
    {
     "name": "stderr",
     "output_type": "stream",
     "text": [
      "C:\\Users\\asus\\Anaconda3\\lib\\site-packages\\ipykernel_launcher.py:1: SettingWithCopyWarning: \n",
      "A value is trying to be set on a copy of a slice from a DataFrame.\n",
      "Try using .loc[row_indexer,col_indexer] = value instead\n",
      "\n",
      "See the caveats in the documentation: http://pandas.pydata.org/pandas-docs/stable/indexing.html#indexing-view-versus-copy\n",
      "  \"\"\"Entry point for launching an IPython kernel.\n",
      "C:\\Users\\asus\\Anaconda3\\lib\\site-packages\\ipykernel_launcher.py:2: SettingWithCopyWarning: \n",
      "A value is trying to be set on a copy of a slice from a DataFrame.\n",
      "Try using .loc[row_indexer,col_indexer] = value instead\n",
      "\n",
      "See the caveats in the documentation: http://pandas.pydata.org/pandas-docs/stable/indexing.html#indexing-view-versus-copy\n",
      "  \n",
      "C:\\Users\\asus\\Anaconda3\\lib\\site-packages\\ipykernel_launcher.py:3: SettingWithCopyWarning: \n",
      "A value is trying to be set on a copy of a slice from a DataFrame.\n",
      "Try using .loc[row_indexer,col_indexer] = value instead\n",
      "\n",
      "See the caveats in the documentation: http://pandas.pydata.org/pandas-docs/stable/indexing.html#indexing-view-versus-copy\n",
      "  This is separate from the ipykernel package so we can avoid doing imports until\n",
      "C:\\Users\\asus\\Anaconda3\\lib\\site-packages\\ipykernel_launcher.py:4: SettingWithCopyWarning: \n",
      "A value is trying to be set on a copy of a slice from a DataFrame.\n",
      "Try using .loc[row_indexer,col_indexer] = value instead\n",
      "\n",
      "See the caveats in the documentation: http://pandas.pydata.org/pandas-docs/stable/indexing.html#indexing-view-versus-copy\n",
      "  after removing the cwd from sys.path.\n"
     ]
    }
   ],
   "source": [
    "ds2_cleaned['front_impact'] = np.where(ds2_cleaned['1st_Point_of_Impact'].isin([1]), 1, 0)\n",
    "ds2_cleaned['motorcycle'] = np.where(ds2_cleaned.Vehicle_Type.isin([2,3,4,5,22,23,97]), 1, 0)\n",
    "ds2_cleaned['car'] = np.where(ds2_cleaned.Vehicle_Type.isin([8, 9]), 1, 0)\n",
    "ds2_cleaned['other_vehicle'] = np.where(~ds2_cleaned.Vehicle_Type.isin([2,3,4,5,22,23,97,8,9,-1]), 1, 0)"
   ]
  },
  {
   "cell_type": "markdown",
   "metadata": {},
   "source": [
    "Agrupamos por accidente y calculamos la media para las variables continuas y el máximo para las binarias:"
   ]
  },
  {
   "cell_type": "code",
   "execution_count": 184,
   "metadata": {},
   "outputs": [],
   "source": [
    "ds3 = ds2_cleaned.groupby('Accident_Index').agg({'Age_of_Driver':'mean', 'Age_of_Vehicle':'mean', 'Engine_Capacity_(CC)':'mean', 'front_impact':'max', 'motorcycle':'max', 'car':'max', 'other_vehicle':'max'}).reset_index()"
   ]
  },
  {
   "cell_type": "markdown",
   "metadata": {},
   "source": [
    "Para el dataframe de heridos procedemos de forma análoga, seleccionando la variable de edad de los heridos:"
   ]
  },
  {
   "cell_type": "code",
   "execution_count": 139,
   "metadata": {
    "collapsed": true
   },
   "outputs": [],
   "source": [
    "ds4 = casualties[['Age_of_Casualty', 'Accident_Index']]"
   ]
  },
  {
   "cell_type": "code",
   "execution_count": 140,
   "metadata": {},
   "outputs": [
    {
     "data": {
      "text/html": [
       "<div>\n",
       "<style scoped>\n",
       "    .dataframe tbody tr th:only-of-type {\n",
       "        vertical-align: middle;\n",
       "    }\n",
       "\n",
       "    .dataframe tbody tr th {\n",
       "        vertical-align: top;\n",
       "    }\n",
       "\n",
       "    .dataframe thead th {\n",
       "        text-align: right;\n",
       "    }\n",
       "</style>\n",
       "<table border=\"1\" class=\"dataframe\">\n",
       "  <thead>\n",
       "    <tr style=\"text-align: right;\">\n",
       "      <th></th>\n",
       "      <th>Age_of_Casualty</th>\n",
       "    </tr>\n",
       "  </thead>\n",
       "  <tbody>\n",
       "    <tr>\n",
       "      <th>count</th>\n",
       "      <td>2.216720e+06</td>\n",
       "    </tr>\n",
       "    <tr>\n",
       "      <th>mean</th>\n",
       "      <td>3.435309e+01</td>\n",
       "    </tr>\n",
       "    <tr>\n",
       "      <th>std</th>\n",
       "      <td>1.885804e+01</td>\n",
       "    </tr>\n",
       "    <tr>\n",
       "      <th>min</th>\n",
       "      <td>-1.000000e+00</td>\n",
       "    </tr>\n",
       "    <tr>\n",
       "      <th>25%</th>\n",
       "      <td>2.000000e+01</td>\n",
       "    </tr>\n",
       "    <tr>\n",
       "      <th>50%</th>\n",
       "      <td>3.100000e+01</td>\n",
       "    </tr>\n",
       "    <tr>\n",
       "      <th>75%</th>\n",
       "      <td>4.600000e+01</td>\n",
       "    </tr>\n",
       "    <tr>\n",
       "      <th>max</th>\n",
       "      <td>1.030000e+02</td>\n",
       "    </tr>\n",
       "  </tbody>\n",
       "</table>\n",
       "</div>"
      ],
      "text/plain": [
       "       Age_of_Casualty\n",
       "count     2.216720e+06\n",
       "mean      3.435309e+01\n",
       "std       1.885804e+01\n",
       "min      -1.000000e+00\n",
       "25%       2.000000e+01\n",
       "50%       3.100000e+01\n",
       "75%       4.600000e+01\n",
       "max       1.030000e+02"
      ]
     },
     "execution_count": 140,
     "metadata": {},
     "output_type": "execute_result"
    }
   ],
   "source": [
    "ds4[['Age_of_Casualty']].describe()"
   ]
  },
  {
   "cell_type": "markdown",
   "metadata": {},
   "source": [
    "Para la edad de los heridos se considera atípico aquéllas por encima de 63 años."
   ]
  },
  {
   "cell_type": "code",
   "execution_count": 141,
   "metadata": {
    "collapsed": true
   },
   "outputs": [],
   "source": [
    "ds4_cleaned = ds4[(ds4.Age_of_Casualty<63)&(ds4.Age_of_Casualty>0)]\n",
    "ds5 = ds4_cleaned.groupby('Accident_Index').agg({'Age_of_Casualty':'mean'}).reset_index()"
   ]
  },
  {
   "cell_type": "markdown",
   "metadata": {},
   "source": [
    "Unimos todos los datasets para tener una única fuente de datos para el modelo:"
   ]
  },
  {
   "cell_type": "code",
   "execution_count": 185,
   "metadata": {},
   "outputs": [
    {
     "data": {
      "text/plain": [
       "(764521, 23)"
      ]
     },
     "execution_count": 185,
     "metadata": {},
     "output_type": "execute_result"
    }
   ],
   "source": [
    "data = ds1_cleaned.merge(ds3, how='inner', on='Accident_Index')\n",
    "data2 = data.merge(ds5, how='inner', on='Accident_Index')\n",
    "data2.shape"
   ]
  },
  {
   "cell_type": "markdown",
   "metadata": {},
   "source": [
    "Éstas son las variables que vamos a utilizar en el modelo, excepto Accident_Index, year y Accident_Severity que es la columna de labels."
   ]
  },
  {
   "cell_type": "code",
   "execution_count": 186,
   "metadata": {},
   "outputs": [
    {
     "data": {
      "text/plain": [
       "Index(['Accident_Index', 'year', 'Number_of_Vehicles', 'Number_of_Casualties',\n",
       "       'Road_Type', 'Speed_limit', 'Light_Conditions', 'Weather_Conditions',\n",
       "       'Road_Surface_Conditions', 'Carriageway_Hazards', 'Urban_or_Rural_Area',\n",
       "       'Junction_Control', 'Pedestrian_Crossing-Human_Control',\n",
       "       'Pedestrian_Crossing-Physical_Facilities', 'Accident_Severity',\n",
       "       'Age_of_Driver', 'Age_of_Vehicle', 'Engine_Capacity_(CC)',\n",
       "       'front_impact', 'motorcycle', 'car', 'other_vehicle',\n",
       "       'Age_of_Casualty'],\n",
       "      dtype='object')"
      ]
     },
     "execution_count": 186,
     "metadata": {},
     "output_type": "execute_result"
    }
   ],
   "source": [
    "data2.columns"
   ]
  },
  {
   "cell_type": "markdown",
   "metadata": {},
   "source": [
    "Otro tratamiento que habría que realizar sobre las variables sería la normalización, pero en este caso al ser un Random Forest la escala de los datos es indiferente para los resultados del modelo."
   ]
  },
  {
   "cell_type": "markdown",
   "metadata": {},
   "source": [
    "Veamos la correlación entre las variables, por si pudiéramos suprimir alguna al tener correlación alta con respecto a otra:"
   ]
  },
  {
   "cell_type": "code",
   "execution_count": 187,
   "metadata": {},
   "outputs": [
    {
     "data": {
      "text/html": [
       "<div>\n",
       "<style scoped>\n",
       "    .dataframe tbody tr th:only-of-type {\n",
       "        vertical-align: middle;\n",
       "    }\n",
       "\n",
       "    .dataframe tbody tr th {\n",
       "        vertical-align: top;\n",
       "    }\n",
       "\n",
       "    .dataframe thead th {\n",
       "        text-align: right;\n",
       "    }\n",
       "</style>\n",
       "<table border=\"1\" class=\"dataframe\">\n",
       "  <thead>\n",
       "    <tr style=\"text-align: right;\">\n",
       "      <th></th>\n",
       "      <th>year</th>\n",
       "      <th>Number_of_Vehicles</th>\n",
       "      <th>Number_of_Casualties</th>\n",
       "      <th>Road_Type</th>\n",
       "      <th>Speed_limit</th>\n",
       "      <th>Light_Conditions</th>\n",
       "      <th>Weather_Conditions</th>\n",
       "      <th>Road_Surface_Conditions</th>\n",
       "      <th>Carriageway_Hazards</th>\n",
       "      <th>Urban_or_Rural_Area</th>\n",
       "      <th>...</th>\n",
       "      <th>Pedestrian_Crossing-Physical_Facilities</th>\n",
       "      <th>Accident_Severity</th>\n",
       "      <th>Age_of_Driver</th>\n",
       "      <th>Age_of_Vehicle</th>\n",
       "      <th>Engine_Capacity_(CC)</th>\n",
       "      <th>front_impact</th>\n",
       "      <th>motorcycle</th>\n",
       "      <th>car</th>\n",
       "      <th>other_vehicle</th>\n",
       "      <th>Age_of_Casualty</th>\n",
       "    </tr>\n",
       "  </thead>\n",
       "  <tbody>\n",
       "    <tr>\n",
       "      <th>year</th>\n",
       "      <td>1.000000</td>\n",
       "      <td>-0.012360</td>\n",
       "      <td>-0.014202</td>\n",
       "      <td>-0.006204</td>\n",
       "      <td>-0.068672</td>\n",
       "      <td>-0.006142</td>\n",
       "      <td>-0.021357</td>\n",
       "      <td>-0.012679</td>\n",
       "      <td>-0.008403</td>\n",
       "      <td>-0.040448</td>\n",
       "      <td>...</td>\n",
       "      <td>0.057351</td>\n",
       "      <td>0.000392</td>\n",
       "      <td>0.066590</td>\n",
       "      <td>0.123387</td>\n",
       "      <td>-0.007576</td>\n",
       "      <td>0.009436</td>\n",
       "      <td>0.022692</td>\n",
       "      <td>-0.003767</td>\n",
       "      <td>0.009148</td>\n",
       "      <td>0.043256</td>\n",
       "    </tr>\n",
       "    <tr>\n",
       "      <th>Number_of_Vehicles</th>\n",
       "      <td>-0.012360</td>\n",
       "      <td>1.000000</td>\n",
       "      <td>0.211716</td>\n",
       "      <td>-0.013544</td>\n",
       "      <td>0.079064</td>\n",
       "      <td>-0.085477</td>\n",
       "      <td>-0.014247</td>\n",
       "      <td>-0.035792</td>\n",
       "      <td>-0.038238</td>\n",
       "      <td>0.051568</td>\n",
       "      <td>...</td>\n",
       "      <td>-0.051325</td>\n",
       "      <td>0.068066</td>\n",
       "      <td>0.049027</td>\n",
       "      <td>-0.026313</td>\n",
       "      <td>0.057070</td>\n",
       "      <td>0.062945</td>\n",
       "      <td>-0.023638</td>\n",
       "      <td>0.113182</td>\n",
       "      <td>0.079582</td>\n",
       "      <td>0.142312</td>\n",
       "    </tr>\n",
       "    <tr>\n",
       "      <th>Number_of_Casualties</th>\n",
       "      <td>-0.014202</td>\n",
       "      <td>0.211716</td>\n",
       "      <td>1.000000</td>\n",
       "      <td>0.018207</td>\n",
       "      <td>0.112774</td>\n",
       "      <td>0.033019</td>\n",
       "      <td>-0.004977</td>\n",
       "      <td>0.018440</td>\n",
       "      <td>-0.001483</td>\n",
       "      <td>0.094572</td>\n",
       "      <td>...</td>\n",
       "      <td>-0.013997</td>\n",
       "      <td>-0.074677</td>\n",
       "      <td>-0.003652</td>\n",
       "      <td>0.018005</td>\n",
       "      <td>0.082193</td>\n",
       "      <td>0.104868</td>\n",
       "      <td>-0.139056</td>\n",
       "      <td>0.091782</td>\n",
       "      <td>0.018434</td>\n",
       "      <td>-0.035840</td>\n",
       "    </tr>\n",
       "    <tr>\n",
       "      <th>Road_Type</th>\n",
       "      <td>-0.006204</td>\n",
       "      <td>-0.013544</td>\n",
       "      <td>0.018207</td>\n",
       "      <td>1.000000</td>\n",
       "      <td>-0.155070</td>\n",
       "      <td>-0.005740</td>\n",
       "      <td>-0.005354</td>\n",
       "      <td>0.007218</td>\n",
       "      <td>0.008240</td>\n",
       "      <td>-0.048384</td>\n",
       "      <td>...</td>\n",
       "      <td>-0.051747</td>\n",
       "      <td>-0.039898</td>\n",
       "      <td>0.000715</td>\n",
       "      <td>0.026213</td>\n",
       "      <td>-0.011789</td>\n",
       "      <td>0.052629</td>\n",
       "      <td>0.020310</td>\n",
       "      <td>-0.001862</td>\n",
       "      <td>0.006583</td>\n",
       "      <td>-0.053302</td>\n",
       "    </tr>\n",
       "    <tr>\n",
       "      <th>Speed_limit</th>\n",
       "      <td>-0.068672</td>\n",
       "      <td>0.079064</td>\n",
       "      <td>0.112774</td>\n",
       "      <td>-0.155070</td>\n",
       "      <td>1.000000</td>\n",
       "      <td>0.036194</td>\n",
       "      <td>0.013292</td>\n",
       "      <td>0.067608</td>\n",
       "      <td>0.032468</td>\n",
       "      <td>0.653055</td>\n",
       "      <td>...</td>\n",
       "      <td>-0.172901</td>\n",
       "      <td>-0.074049</td>\n",
       "      <td>0.011262</td>\n",
       "      <td>-0.015407</td>\n",
       "      <td>0.049555</td>\n",
       "      <td>0.038957</td>\n",
       "      <td>-0.032379</td>\n",
       "      <td>0.002639</td>\n",
       "      <td>0.043368</td>\n",
       "      <td>0.083393</td>\n",
       "    </tr>\n",
       "    <tr>\n",
       "      <th>Light_Conditions</th>\n",
       "      <td>-0.006142</td>\n",
       "      <td>-0.085477</td>\n",
       "      <td>0.033019</td>\n",
       "      <td>-0.005740</td>\n",
       "      <td>0.036194</td>\n",
       "      <td>1.000000</td>\n",
       "      <td>0.110888</td>\n",
       "      <td>0.184447</td>\n",
       "      <td>0.036793</td>\n",
       "      <td>0.015535</td>\n",
       "      <td>...</td>\n",
       "      <td>0.018952</td>\n",
       "      <td>-0.055995</td>\n",
       "      <td>-0.117837</td>\n",
       "      <td>0.035856</td>\n",
       "      <td>-0.004490</td>\n",
       "      <td>0.034690</td>\n",
       "      <td>-0.022719</td>\n",
       "      <td>0.032555</td>\n",
       "      <td>-0.057250</td>\n",
       "      <td>-0.056228</td>\n",
       "    </tr>\n",
       "    <tr>\n",
       "      <th>Weather_Conditions</th>\n",
       "      <td>-0.021357</td>\n",
       "      <td>-0.014247</td>\n",
       "      <td>-0.004977</td>\n",
       "      <td>-0.005354</td>\n",
       "      <td>0.013292</td>\n",
       "      <td>0.110888</td>\n",
       "      <td>1.000000</td>\n",
       "      <td>0.307953</td>\n",
       "      <td>0.007508</td>\n",
       "      <td>0.014938</td>\n",
       "      <td>...</td>\n",
       "      <td>-0.017653</td>\n",
       "      <td>0.025749</td>\n",
       "      <td>-0.023711</td>\n",
       "      <td>0.007906</td>\n",
       "      <td>0.002845</td>\n",
       "      <td>-0.000556</td>\n",
       "      <td>-0.030075</td>\n",
       "      <td>0.015530</td>\n",
       "      <td>-0.009554</td>\n",
       "      <td>0.002475</td>\n",
       "    </tr>\n",
       "    <tr>\n",
       "      <th>Road_Surface_Conditions</th>\n",
       "      <td>-0.012679</td>\n",
       "      <td>-0.035792</td>\n",
       "      <td>0.018440</td>\n",
       "      <td>0.007218</td>\n",
       "      <td>0.067608</td>\n",
       "      <td>0.184447</td>\n",
       "      <td>0.307953</td>\n",
       "      <td>1.000000</td>\n",
       "      <td>0.011504</td>\n",
       "      <td>0.067166</td>\n",
       "      <td>...</td>\n",
       "      <td>-0.026656</td>\n",
       "      <td>0.016181</td>\n",
       "      <td>-0.042632</td>\n",
       "      <td>0.012855</td>\n",
       "      <td>-0.000293</td>\n",
       "      <td>0.041745</td>\n",
       "      <td>-0.043653</td>\n",
       "      <td>0.018756</td>\n",
       "      <td>-0.000557</td>\n",
       "      <td>0.004130</td>\n",
       "    </tr>\n",
       "    <tr>\n",
       "      <th>Carriageway_Hazards</th>\n",
       "      <td>-0.008403</td>\n",
       "      <td>-0.038238</td>\n",
       "      <td>-0.001483</td>\n",
       "      <td>0.008240</td>\n",
       "      <td>0.032468</td>\n",
       "      <td>0.036793</td>\n",
       "      <td>0.007508</td>\n",
       "      <td>0.011504</td>\n",
       "      <td>1.000000</td>\n",
       "      <td>0.030267</td>\n",
       "      <td>...</td>\n",
       "      <td>-0.005884</td>\n",
       "      <td>-0.003410</td>\n",
       "      <td>-0.014681</td>\n",
       "      <td>-0.001156</td>\n",
       "      <td>-0.005856</td>\n",
       "      <td>0.005331</td>\n",
       "      <td>0.002770</td>\n",
       "      <td>-0.017999</td>\n",
       "      <td>-0.000837</td>\n",
       "      <td>-0.005734</td>\n",
       "    </tr>\n",
       "    <tr>\n",
       "      <th>Urban_or_Rural_Area</th>\n",
       "      <td>-0.040448</td>\n",
       "      <td>0.051568</td>\n",
       "      <td>0.094572</td>\n",
       "      <td>-0.048384</td>\n",
       "      <td>0.653055</td>\n",
       "      <td>0.015535</td>\n",
       "      <td>0.014938</td>\n",
       "      <td>0.067166</td>\n",
       "      <td>0.030267</td>\n",
       "      <td>1.000000</td>\n",
       "      <td>...</td>\n",
       "      <td>-0.209993</td>\n",
       "      <td>-0.071560</td>\n",
       "      <td>0.026089</td>\n",
       "      <td>-0.003504</td>\n",
       "      <td>0.038113</td>\n",
       "      <td>0.047141</td>\n",
       "      <td>-0.022338</td>\n",
       "      <td>-0.000285</td>\n",
       "      <td>0.040090</td>\n",
       "      <td>0.071327</td>\n",
       "    </tr>\n",
       "    <tr>\n",
       "      <th>Junction_Control</th>\n",
       "      <td>0.114782</td>\n",
       "      <td>0.011763</td>\n",
       "      <td>-0.036439</td>\n",
       "      <td>0.012653</td>\n",
       "      <td>-0.144729</td>\n",
       "      <td>-0.058526</td>\n",
       "      <td>-0.007540</td>\n",
       "      <td>-0.042999</td>\n",
       "      <td>-0.035117</td>\n",
       "      <td>-0.077466</td>\n",
       "      <td>...</td>\n",
       "      <td>-0.197404</td>\n",
       "      <td>0.020794</td>\n",
       "      <td>0.031583</td>\n",
       "      <td>0.006626</td>\n",
       "      <td>-0.036615</td>\n",
       "      <td>0.003240</td>\n",
       "      <td>0.045676</td>\n",
       "      <td>-0.002705</td>\n",
       "      <td>-0.006328</td>\n",
       "      <td>0.008527</td>\n",
       "    </tr>\n",
       "    <tr>\n",
       "      <th>Pedestrian_Crossing-Human_Control</th>\n",
       "      <td>-0.001442</td>\n",
       "      <td>-0.016239</td>\n",
       "      <td>-0.005550</td>\n",
       "      <td>0.003711</td>\n",
       "      <td>-0.032763</td>\n",
       "      <td>-0.008838</td>\n",
       "      <td>0.000490</td>\n",
       "      <td>-0.000857</td>\n",
       "      <td>0.002293</td>\n",
       "      <td>-0.031682</td>\n",
       "      <td>...</td>\n",
       "      <td>0.089991</td>\n",
       "      <td>0.004288</td>\n",
       "      <td>0.006605</td>\n",
       "      <td>-0.007055</td>\n",
       "      <td>0.001990</td>\n",
       "      <td>-0.001364</td>\n",
       "      <td>-0.006858</td>\n",
       "      <td>0.004399</td>\n",
       "      <td>-0.002344</td>\n",
       "      <td>-0.007538</td>\n",
       "    </tr>\n",
       "    <tr>\n",
       "      <th>Pedestrian_Crossing-Physical_Facilities</th>\n",
       "      <td>0.057351</td>\n",
       "      <td>-0.051325</td>\n",
       "      <td>-0.013997</td>\n",
       "      <td>-0.051747</td>\n",
       "      <td>-0.172901</td>\n",
       "      <td>0.018952</td>\n",
       "      <td>-0.017653</td>\n",
       "      <td>-0.026656</td>\n",
       "      <td>-0.005884</td>\n",
       "      <td>-0.209993</td>\n",
       "      <td>...</td>\n",
       "      <td>1.000000</td>\n",
       "      <td>0.006013</td>\n",
       "      <td>0.005862</td>\n",
       "      <td>-0.007186</td>\n",
       "      <td>0.010229</td>\n",
       "      <td>-0.006840</td>\n",
       "      <td>-0.008374</td>\n",
       "      <td>-0.007205</td>\n",
       "      <td>-0.003973</td>\n",
       "      <td>-0.003916</td>\n",
       "    </tr>\n",
       "    <tr>\n",
       "      <th>Accident_Severity</th>\n",
       "      <td>0.000392</td>\n",
       "      <td>0.068066</td>\n",
       "      <td>-0.074677</td>\n",
       "      <td>-0.039898</td>\n",
       "      <td>-0.074049</td>\n",
       "      <td>-0.055995</td>\n",
       "      <td>0.025749</td>\n",
       "      <td>0.016181</td>\n",
       "      <td>-0.003410</td>\n",
       "      <td>-0.071560</td>\n",
       "      <td>...</td>\n",
       "      <td>0.006013</td>\n",
       "      <td>1.000000</td>\n",
       "      <td>-0.014646</td>\n",
       "      <td>-0.001615</td>\n",
       "      <td>0.055225</td>\n",
       "      <td>-0.025916</td>\n",
       "      <td>-0.161403</td>\n",
       "      <td>0.100091</td>\n",
       "      <td>-0.006075</td>\n",
       "      <td>0.004295</td>\n",
       "    </tr>\n",
       "    <tr>\n",
       "      <th>Age_of_Driver</th>\n",
       "      <td>0.066590</td>\n",
       "      <td>0.049027</td>\n",
       "      <td>-0.003652</td>\n",
       "      <td>0.000715</td>\n",
       "      <td>0.011262</td>\n",
       "      <td>-0.117837</td>\n",
       "      <td>-0.023711</td>\n",
       "      <td>-0.042632</td>\n",
       "      <td>-0.014681</td>\n",
       "      <td>0.026089</td>\n",
       "      <td>...</td>\n",
       "      <td>0.005862</td>\n",
       "      <td>-0.014646</td>\n",
       "      <td>1.000000</td>\n",
       "      <td>-0.045317</td>\n",
       "      <td>0.222785</td>\n",
       "      <td>-0.020427</td>\n",
       "      <td>-0.097371</td>\n",
       "      <td>0.075858</td>\n",
       "      <td>0.032451</td>\n",
       "      <td>0.397986</td>\n",
       "    </tr>\n",
       "    <tr>\n",
       "      <th>Age_of_Vehicle</th>\n",
       "      <td>0.123387</td>\n",
       "      <td>-0.026313</td>\n",
       "      <td>0.018005</td>\n",
       "      <td>0.026213</td>\n",
       "      <td>-0.015407</td>\n",
       "      <td>0.035856</td>\n",
       "      <td>0.007906</td>\n",
       "      <td>0.012855</td>\n",
       "      <td>-0.001156</td>\n",
       "      <td>-0.003504</td>\n",
       "      <td>...</td>\n",
       "      <td>-0.007186</td>\n",
       "      <td>-0.001615</td>\n",
       "      <td>-0.045317</td>\n",
       "      <td>1.000000</td>\n",
       "      <td>0.034655</td>\n",
       "      <td>0.035615</td>\n",
       "      <td>-0.080559</td>\n",
       "      <td>0.118339</td>\n",
       "      <td>-0.093225</td>\n",
       "      <td>-0.027928</td>\n",
       "    </tr>\n",
       "    <tr>\n",
       "      <th>Engine_Capacity_(CC)</th>\n",
       "      <td>-0.007576</td>\n",
       "      <td>0.057070</td>\n",
       "      <td>0.082193</td>\n",
       "      <td>-0.011789</td>\n",
       "      <td>0.049555</td>\n",
       "      <td>-0.004490</td>\n",
       "      <td>0.002845</td>\n",
       "      <td>-0.000293</td>\n",
       "      <td>-0.005856</td>\n",
       "      <td>0.038113</td>\n",
       "      <td>...</td>\n",
       "      <td>0.010229</td>\n",
       "      <td>0.055225</td>\n",
       "      <td>0.222785</td>\n",
       "      <td>0.034655</td>\n",
       "      <td>1.000000</td>\n",
       "      <td>-0.001197</td>\n",
       "      <td>-0.575100</td>\n",
       "      <td>0.310657</td>\n",
       "      <td>0.233758</td>\n",
       "      <td>0.112509</td>\n",
       "    </tr>\n",
       "    <tr>\n",
       "      <th>front_impact</th>\n",
       "      <td>0.009436</td>\n",
       "      <td>0.062945</td>\n",
       "      <td>0.104868</td>\n",
       "      <td>0.052629</td>\n",
       "      <td>0.038957</td>\n",
       "      <td>0.034690</td>\n",
       "      <td>-0.000556</td>\n",
       "      <td>0.041745</td>\n",
       "      <td>0.005331</td>\n",
       "      <td>0.047141</td>\n",
       "      <td>...</td>\n",
       "      <td>-0.006840</td>\n",
       "      <td>-0.025916</td>\n",
       "      <td>-0.020427</td>\n",
       "      <td>0.035615</td>\n",
       "      <td>-0.001197</td>\n",
       "      <td>1.000000</td>\n",
       "      <td>0.028259</td>\n",
       "      <td>0.097770</td>\n",
       "      <td>0.034827</td>\n",
       "      <td>-0.000646</td>\n",
       "    </tr>\n",
       "    <tr>\n",
       "      <th>motorcycle</th>\n",
       "      <td>0.022692</td>\n",
       "      <td>-0.023638</td>\n",
       "      <td>-0.139056</td>\n",
       "      <td>0.020310</td>\n",
       "      <td>-0.032379</td>\n",
       "      <td>-0.022719</td>\n",
       "      <td>-0.030075</td>\n",
       "      <td>-0.043653</td>\n",
       "      <td>0.002770</td>\n",
       "      <td>-0.022338</td>\n",
       "      <td>...</td>\n",
       "      <td>-0.008374</td>\n",
       "      <td>-0.161403</td>\n",
       "      <td>-0.097371</td>\n",
       "      <td>-0.080559</td>\n",
       "      <td>-0.575100</td>\n",
       "      <td>0.028259</td>\n",
       "      <td>1.000000</td>\n",
       "      <td>-0.501723</td>\n",
       "      <td>-0.048304</td>\n",
       "      <td>-0.019160</td>\n",
       "    </tr>\n",
       "    <tr>\n",
       "      <th>car</th>\n",
       "      <td>-0.003767</td>\n",
       "      <td>0.113182</td>\n",
       "      <td>0.091782</td>\n",
       "      <td>-0.001862</td>\n",
       "      <td>0.002639</td>\n",
       "      <td>0.032555</td>\n",
       "      <td>0.015530</td>\n",
       "      <td>0.018756</td>\n",
       "      <td>-0.017999</td>\n",
       "      <td>-0.000285</td>\n",
       "      <td>...</td>\n",
       "      <td>-0.007205</td>\n",
       "      <td>0.100091</td>\n",
       "      <td>0.075858</td>\n",
       "      <td>0.118339</td>\n",
       "      <td>0.310657</td>\n",
       "      <td>0.097770</td>\n",
       "      <td>-0.501723</td>\n",
       "      <td>1.000000</td>\n",
       "      <td>-0.374244</td>\n",
       "      <td>-0.002729</td>\n",
       "    </tr>\n",
       "    <tr>\n",
       "      <th>other_vehicle</th>\n",
       "      <td>0.009148</td>\n",
       "      <td>0.079582</td>\n",
       "      <td>0.018434</td>\n",
       "      <td>0.006583</td>\n",
       "      <td>0.043368</td>\n",
       "      <td>-0.057250</td>\n",
       "      <td>-0.009554</td>\n",
       "      <td>-0.000557</td>\n",
       "      <td>-0.000837</td>\n",
       "      <td>0.040090</td>\n",
       "      <td>...</td>\n",
       "      <td>-0.003973</td>\n",
       "      <td>-0.006075</td>\n",
       "      <td>0.032451</td>\n",
       "      <td>-0.093225</td>\n",
       "      <td>0.233758</td>\n",
       "      <td>0.034827</td>\n",
       "      <td>-0.048304</td>\n",
       "      <td>-0.374244</td>\n",
       "      <td>1.000000</td>\n",
       "      <td>0.051082</td>\n",
       "    </tr>\n",
       "    <tr>\n",
       "      <th>Age_of_Casualty</th>\n",
       "      <td>0.043256</td>\n",
       "      <td>0.142312</td>\n",
       "      <td>-0.035840</td>\n",
       "      <td>-0.053302</td>\n",
       "      <td>0.083393</td>\n",
       "      <td>-0.056228</td>\n",
       "      <td>0.002475</td>\n",
       "      <td>0.004130</td>\n",
       "      <td>-0.005734</td>\n",
       "      <td>0.071327</td>\n",
       "      <td>...</td>\n",
       "      <td>-0.003916</td>\n",
       "      <td>0.004295</td>\n",
       "      <td>0.397986</td>\n",
       "      <td>-0.027928</td>\n",
       "      <td>0.112509</td>\n",
       "      <td>-0.000646</td>\n",
       "      <td>-0.019160</td>\n",
       "      <td>-0.002729</td>\n",
       "      <td>0.051082</td>\n",
       "      <td>1.000000</td>\n",
       "    </tr>\n",
       "  </tbody>\n",
       "</table>\n",
       "<p>22 rows × 22 columns</p>\n",
       "</div>"
      ],
      "text/plain": [
       "                                             year  Number_of_Vehicles  \\\n",
       "year                                     1.000000           -0.012360   \n",
       "Number_of_Vehicles                      -0.012360            1.000000   \n",
       "Number_of_Casualties                    -0.014202            0.211716   \n",
       "Road_Type                               -0.006204           -0.013544   \n",
       "Speed_limit                             -0.068672            0.079064   \n",
       "Light_Conditions                        -0.006142           -0.085477   \n",
       "Weather_Conditions                      -0.021357           -0.014247   \n",
       "Road_Surface_Conditions                 -0.012679           -0.035792   \n",
       "Carriageway_Hazards                     -0.008403           -0.038238   \n",
       "Urban_or_Rural_Area                     -0.040448            0.051568   \n",
       "Junction_Control                         0.114782            0.011763   \n",
       "Pedestrian_Crossing-Human_Control       -0.001442           -0.016239   \n",
       "Pedestrian_Crossing-Physical_Facilities  0.057351           -0.051325   \n",
       "Accident_Severity                        0.000392            0.068066   \n",
       "Age_of_Driver                            0.066590            0.049027   \n",
       "Age_of_Vehicle                           0.123387           -0.026313   \n",
       "Engine_Capacity_(CC)                    -0.007576            0.057070   \n",
       "front_impact                             0.009436            0.062945   \n",
       "motorcycle                               0.022692           -0.023638   \n",
       "car                                     -0.003767            0.113182   \n",
       "other_vehicle                            0.009148            0.079582   \n",
       "Age_of_Casualty                          0.043256            0.142312   \n",
       "\n",
       "                                         Number_of_Casualties  Road_Type  \\\n",
       "year                                                -0.014202  -0.006204   \n",
       "Number_of_Vehicles                                   0.211716  -0.013544   \n",
       "Number_of_Casualties                                 1.000000   0.018207   \n",
       "Road_Type                                            0.018207   1.000000   \n",
       "Speed_limit                                          0.112774  -0.155070   \n",
       "Light_Conditions                                     0.033019  -0.005740   \n",
       "Weather_Conditions                                  -0.004977  -0.005354   \n",
       "Road_Surface_Conditions                              0.018440   0.007218   \n",
       "Carriageway_Hazards                                 -0.001483   0.008240   \n",
       "Urban_or_Rural_Area                                  0.094572  -0.048384   \n",
       "Junction_Control                                    -0.036439   0.012653   \n",
       "Pedestrian_Crossing-Human_Control                   -0.005550   0.003711   \n",
       "Pedestrian_Crossing-Physical_Facilities             -0.013997  -0.051747   \n",
       "Accident_Severity                                   -0.074677  -0.039898   \n",
       "Age_of_Driver                                       -0.003652   0.000715   \n",
       "Age_of_Vehicle                                       0.018005   0.026213   \n",
       "Engine_Capacity_(CC)                                 0.082193  -0.011789   \n",
       "front_impact                                         0.104868   0.052629   \n",
       "motorcycle                                          -0.139056   0.020310   \n",
       "car                                                  0.091782  -0.001862   \n",
       "other_vehicle                                        0.018434   0.006583   \n",
       "Age_of_Casualty                                     -0.035840  -0.053302   \n",
       "\n",
       "                                         Speed_limit  Light_Conditions  \\\n",
       "year                                       -0.068672         -0.006142   \n",
       "Number_of_Vehicles                          0.079064         -0.085477   \n",
       "Number_of_Casualties                        0.112774          0.033019   \n",
       "Road_Type                                  -0.155070         -0.005740   \n",
       "Speed_limit                                 1.000000          0.036194   \n",
       "Light_Conditions                            0.036194          1.000000   \n",
       "Weather_Conditions                          0.013292          0.110888   \n",
       "Road_Surface_Conditions                     0.067608          0.184447   \n",
       "Carriageway_Hazards                         0.032468          0.036793   \n",
       "Urban_or_Rural_Area                         0.653055          0.015535   \n",
       "Junction_Control                           -0.144729         -0.058526   \n",
       "Pedestrian_Crossing-Human_Control          -0.032763         -0.008838   \n",
       "Pedestrian_Crossing-Physical_Facilities    -0.172901          0.018952   \n",
       "Accident_Severity                          -0.074049         -0.055995   \n",
       "Age_of_Driver                               0.011262         -0.117837   \n",
       "Age_of_Vehicle                             -0.015407          0.035856   \n",
       "Engine_Capacity_(CC)                        0.049555         -0.004490   \n",
       "front_impact                                0.038957          0.034690   \n",
       "motorcycle                                 -0.032379         -0.022719   \n",
       "car                                         0.002639          0.032555   \n",
       "other_vehicle                               0.043368         -0.057250   \n",
       "Age_of_Casualty                             0.083393         -0.056228   \n",
       "\n",
       "                                         Weather_Conditions  \\\n",
       "year                                              -0.021357   \n",
       "Number_of_Vehicles                                -0.014247   \n",
       "Number_of_Casualties                              -0.004977   \n",
       "Road_Type                                         -0.005354   \n",
       "Speed_limit                                        0.013292   \n",
       "Light_Conditions                                   0.110888   \n",
       "Weather_Conditions                                 1.000000   \n",
       "Road_Surface_Conditions                            0.307953   \n",
       "Carriageway_Hazards                                0.007508   \n",
       "Urban_or_Rural_Area                                0.014938   \n",
       "Junction_Control                                  -0.007540   \n",
       "Pedestrian_Crossing-Human_Control                  0.000490   \n",
       "Pedestrian_Crossing-Physical_Facilities           -0.017653   \n",
       "Accident_Severity                                  0.025749   \n",
       "Age_of_Driver                                     -0.023711   \n",
       "Age_of_Vehicle                                     0.007906   \n",
       "Engine_Capacity_(CC)                               0.002845   \n",
       "front_impact                                      -0.000556   \n",
       "motorcycle                                        -0.030075   \n",
       "car                                                0.015530   \n",
       "other_vehicle                                     -0.009554   \n",
       "Age_of_Casualty                                    0.002475   \n",
       "\n",
       "                                         Road_Surface_Conditions  \\\n",
       "year                                                   -0.012679   \n",
       "Number_of_Vehicles                                     -0.035792   \n",
       "Number_of_Casualties                                    0.018440   \n",
       "Road_Type                                               0.007218   \n",
       "Speed_limit                                             0.067608   \n",
       "Light_Conditions                                        0.184447   \n",
       "Weather_Conditions                                      0.307953   \n",
       "Road_Surface_Conditions                                 1.000000   \n",
       "Carriageway_Hazards                                     0.011504   \n",
       "Urban_or_Rural_Area                                     0.067166   \n",
       "Junction_Control                                       -0.042999   \n",
       "Pedestrian_Crossing-Human_Control                      -0.000857   \n",
       "Pedestrian_Crossing-Physical_Facilities                -0.026656   \n",
       "Accident_Severity                                       0.016181   \n",
       "Age_of_Driver                                          -0.042632   \n",
       "Age_of_Vehicle                                          0.012855   \n",
       "Engine_Capacity_(CC)                                   -0.000293   \n",
       "front_impact                                            0.041745   \n",
       "motorcycle                                             -0.043653   \n",
       "car                                                     0.018756   \n",
       "other_vehicle                                          -0.000557   \n",
       "Age_of_Casualty                                         0.004130   \n",
       "\n",
       "                                         Carriageway_Hazards  \\\n",
       "year                                               -0.008403   \n",
       "Number_of_Vehicles                                 -0.038238   \n",
       "Number_of_Casualties                               -0.001483   \n",
       "Road_Type                                           0.008240   \n",
       "Speed_limit                                         0.032468   \n",
       "Light_Conditions                                    0.036793   \n",
       "Weather_Conditions                                  0.007508   \n",
       "Road_Surface_Conditions                             0.011504   \n",
       "Carriageway_Hazards                                 1.000000   \n",
       "Urban_or_Rural_Area                                 0.030267   \n",
       "Junction_Control                                   -0.035117   \n",
       "Pedestrian_Crossing-Human_Control                   0.002293   \n",
       "Pedestrian_Crossing-Physical_Facilities            -0.005884   \n",
       "Accident_Severity                                  -0.003410   \n",
       "Age_of_Driver                                      -0.014681   \n",
       "Age_of_Vehicle                                     -0.001156   \n",
       "Engine_Capacity_(CC)                               -0.005856   \n",
       "front_impact                                        0.005331   \n",
       "motorcycle                                          0.002770   \n",
       "car                                                -0.017999   \n",
       "other_vehicle                                      -0.000837   \n",
       "Age_of_Casualty                                    -0.005734   \n",
       "\n",
       "                                         Urban_or_Rural_Area       ...         \\\n",
       "year                                               -0.040448       ...          \n",
       "Number_of_Vehicles                                  0.051568       ...          \n",
       "Number_of_Casualties                                0.094572       ...          \n",
       "Road_Type                                          -0.048384       ...          \n",
       "Speed_limit                                         0.653055       ...          \n",
       "Light_Conditions                                    0.015535       ...          \n",
       "Weather_Conditions                                  0.014938       ...          \n",
       "Road_Surface_Conditions                             0.067166       ...          \n",
       "Carriageway_Hazards                                 0.030267       ...          \n",
       "Urban_or_Rural_Area                                 1.000000       ...          \n",
       "Junction_Control                                   -0.077466       ...          \n",
       "Pedestrian_Crossing-Human_Control                  -0.031682       ...          \n",
       "Pedestrian_Crossing-Physical_Facilities            -0.209993       ...          \n",
       "Accident_Severity                                  -0.071560       ...          \n",
       "Age_of_Driver                                       0.026089       ...          \n",
       "Age_of_Vehicle                                     -0.003504       ...          \n",
       "Engine_Capacity_(CC)                                0.038113       ...          \n",
       "front_impact                                        0.047141       ...          \n",
       "motorcycle                                         -0.022338       ...          \n",
       "car                                                -0.000285       ...          \n",
       "other_vehicle                                       0.040090       ...          \n",
       "Age_of_Casualty                                     0.071327       ...          \n",
       "\n",
       "                                         Pedestrian_Crossing-Physical_Facilities  \\\n",
       "year                                                                    0.057351   \n",
       "Number_of_Vehicles                                                     -0.051325   \n",
       "Number_of_Casualties                                                   -0.013997   \n",
       "Road_Type                                                              -0.051747   \n",
       "Speed_limit                                                            -0.172901   \n",
       "Light_Conditions                                                        0.018952   \n",
       "Weather_Conditions                                                     -0.017653   \n",
       "Road_Surface_Conditions                                                -0.026656   \n",
       "Carriageway_Hazards                                                    -0.005884   \n",
       "Urban_or_Rural_Area                                                    -0.209993   \n",
       "Junction_Control                                                       -0.197404   \n",
       "Pedestrian_Crossing-Human_Control                                       0.089991   \n",
       "Pedestrian_Crossing-Physical_Facilities                                 1.000000   \n",
       "Accident_Severity                                                       0.006013   \n",
       "Age_of_Driver                                                           0.005862   \n",
       "Age_of_Vehicle                                                         -0.007186   \n",
       "Engine_Capacity_(CC)                                                    0.010229   \n",
       "front_impact                                                           -0.006840   \n",
       "motorcycle                                                             -0.008374   \n",
       "car                                                                    -0.007205   \n",
       "other_vehicle                                                          -0.003973   \n",
       "Age_of_Casualty                                                        -0.003916   \n",
       "\n",
       "                                         Accident_Severity  Age_of_Driver  \\\n",
       "year                                              0.000392       0.066590   \n",
       "Number_of_Vehicles                                0.068066       0.049027   \n",
       "Number_of_Casualties                             -0.074677      -0.003652   \n",
       "Road_Type                                        -0.039898       0.000715   \n",
       "Speed_limit                                      -0.074049       0.011262   \n",
       "Light_Conditions                                 -0.055995      -0.117837   \n",
       "Weather_Conditions                                0.025749      -0.023711   \n",
       "Road_Surface_Conditions                           0.016181      -0.042632   \n",
       "Carriageway_Hazards                              -0.003410      -0.014681   \n",
       "Urban_or_Rural_Area                              -0.071560       0.026089   \n",
       "Junction_Control                                  0.020794       0.031583   \n",
       "Pedestrian_Crossing-Human_Control                 0.004288       0.006605   \n",
       "Pedestrian_Crossing-Physical_Facilities           0.006013       0.005862   \n",
       "Accident_Severity                                 1.000000      -0.014646   \n",
       "Age_of_Driver                                    -0.014646       1.000000   \n",
       "Age_of_Vehicle                                   -0.001615      -0.045317   \n",
       "Engine_Capacity_(CC)                              0.055225       0.222785   \n",
       "front_impact                                     -0.025916      -0.020427   \n",
       "motorcycle                                       -0.161403      -0.097371   \n",
       "car                                               0.100091       0.075858   \n",
       "other_vehicle                                    -0.006075       0.032451   \n",
       "Age_of_Casualty                                   0.004295       0.397986   \n",
       "\n",
       "                                         Age_of_Vehicle  Engine_Capacity_(CC)  \\\n",
       "year                                           0.123387             -0.007576   \n",
       "Number_of_Vehicles                            -0.026313              0.057070   \n",
       "Number_of_Casualties                           0.018005              0.082193   \n",
       "Road_Type                                      0.026213             -0.011789   \n",
       "Speed_limit                                   -0.015407              0.049555   \n",
       "Light_Conditions                               0.035856             -0.004490   \n",
       "Weather_Conditions                             0.007906              0.002845   \n",
       "Road_Surface_Conditions                        0.012855             -0.000293   \n",
       "Carriageway_Hazards                           -0.001156             -0.005856   \n",
       "Urban_or_Rural_Area                           -0.003504              0.038113   \n",
       "Junction_Control                               0.006626             -0.036615   \n",
       "Pedestrian_Crossing-Human_Control             -0.007055              0.001990   \n",
       "Pedestrian_Crossing-Physical_Facilities       -0.007186              0.010229   \n",
       "Accident_Severity                             -0.001615              0.055225   \n",
       "Age_of_Driver                                 -0.045317              0.222785   \n",
       "Age_of_Vehicle                                 1.000000              0.034655   \n",
       "Engine_Capacity_(CC)                           0.034655              1.000000   \n",
       "front_impact                                   0.035615             -0.001197   \n",
       "motorcycle                                    -0.080559             -0.575100   \n",
       "car                                            0.118339              0.310657   \n",
       "other_vehicle                                 -0.093225              0.233758   \n",
       "Age_of_Casualty                               -0.027928              0.112509   \n",
       "\n",
       "                                         front_impact  motorcycle       car  \\\n",
       "year                                         0.009436    0.022692 -0.003767   \n",
       "Number_of_Vehicles                           0.062945   -0.023638  0.113182   \n",
       "Number_of_Casualties                         0.104868   -0.139056  0.091782   \n",
       "Road_Type                                    0.052629    0.020310 -0.001862   \n",
       "Speed_limit                                  0.038957   -0.032379  0.002639   \n",
       "Light_Conditions                             0.034690   -0.022719  0.032555   \n",
       "Weather_Conditions                          -0.000556   -0.030075  0.015530   \n",
       "Road_Surface_Conditions                      0.041745   -0.043653  0.018756   \n",
       "Carriageway_Hazards                          0.005331    0.002770 -0.017999   \n",
       "Urban_or_Rural_Area                          0.047141   -0.022338 -0.000285   \n",
       "Junction_Control                             0.003240    0.045676 -0.002705   \n",
       "Pedestrian_Crossing-Human_Control           -0.001364   -0.006858  0.004399   \n",
       "Pedestrian_Crossing-Physical_Facilities     -0.006840   -0.008374 -0.007205   \n",
       "Accident_Severity                           -0.025916   -0.161403  0.100091   \n",
       "Age_of_Driver                               -0.020427   -0.097371  0.075858   \n",
       "Age_of_Vehicle                               0.035615   -0.080559  0.118339   \n",
       "Engine_Capacity_(CC)                        -0.001197   -0.575100  0.310657   \n",
       "front_impact                                 1.000000    0.028259  0.097770   \n",
       "motorcycle                                   0.028259    1.000000 -0.501723   \n",
       "car                                          0.097770   -0.501723  1.000000   \n",
       "other_vehicle                                0.034827   -0.048304 -0.374244   \n",
       "Age_of_Casualty                             -0.000646   -0.019160 -0.002729   \n",
       "\n",
       "                                         other_vehicle  Age_of_Casualty  \n",
       "year                                          0.009148         0.043256  \n",
       "Number_of_Vehicles                            0.079582         0.142312  \n",
       "Number_of_Casualties                          0.018434        -0.035840  \n",
       "Road_Type                                     0.006583        -0.053302  \n",
       "Speed_limit                                   0.043368         0.083393  \n",
       "Light_Conditions                             -0.057250        -0.056228  \n",
       "Weather_Conditions                           -0.009554         0.002475  \n",
       "Road_Surface_Conditions                      -0.000557         0.004130  \n",
       "Carriageway_Hazards                          -0.000837        -0.005734  \n",
       "Urban_or_Rural_Area                           0.040090         0.071327  \n",
       "Junction_Control                             -0.006328         0.008527  \n",
       "Pedestrian_Crossing-Human_Control            -0.002344        -0.007538  \n",
       "Pedestrian_Crossing-Physical_Facilities      -0.003973        -0.003916  \n",
       "Accident_Severity                            -0.006075         0.004295  \n",
       "Age_of_Driver                                 0.032451         0.397986  \n",
       "Age_of_Vehicle                               -0.093225        -0.027928  \n",
       "Engine_Capacity_(CC)                          0.233758         0.112509  \n",
       "front_impact                                  0.034827        -0.000646  \n",
       "motorcycle                                   -0.048304        -0.019160  \n",
       "car                                          -0.374244        -0.002729  \n",
       "other_vehicle                                 1.000000         0.051082  \n",
       "Age_of_Casualty                               0.051082         1.000000  \n",
       "\n",
       "[22 rows x 22 columns]"
      ]
     },
     "execution_count": 187,
     "metadata": {},
     "output_type": "execute_result"
    }
   ],
   "source": [
    "data2.corr('pearson')"
   ]
  },
  {
   "cell_type": "markdown",
   "metadata": {},
   "source": [
    "Veamos la proporción por gravedad de accidente que tenemos en nuestro dataframe del modelo:"
   ]
  },
  {
   "cell_type": "code",
   "execution_count": 188,
   "metadata": {},
   "outputs": [
    {
     "data": {
      "text/html": [
       "<div>\n",
       "<style scoped>\n",
       "    .dataframe tbody tr th:only-of-type {\n",
       "        vertical-align: middle;\n",
       "    }\n",
       "\n",
       "    .dataframe tbody tr th {\n",
       "        vertical-align: top;\n",
       "    }\n",
       "\n",
       "    .dataframe thead th {\n",
       "        text-align: right;\n",
       "    }\n",
       "</style>\n",
       "<table border=\"1\" class=\"dataframe\">\n",
       "  <thead>\n",
       "    <tr style=\"text-align: right;\">\n",
       "      <th></th>\n",
       "      <th>Accident_Severity</th>\n",
       "      <th>Accidents share</th>\n",
       "    </tr>\n",
       "  </thead>\n",
       "  <tbody>\n",
       "    <tr>\n",
       "      <th>0</th>\n",
       "      <td>1</td>\n",
       "      <td>0.007779</td>\n",
       "    </tr>\n",
       "    <tr>\n",
       "      <th>1</th>\n",
       "      <td>2</td>\n",
       "      <td>0.114353</td>\n",
       "    </tr>\n",
       "    <tr>\n",
       "      <th>2</th>\n",
       "      <td>3</td>\n",
       "      <td>0.877869</td>\n",
       "    </tr>\n",
       "  </tbody>\n",
       "</table>\n",
       "</div>"
      ],
      "text/plain": [
       "   Accident_Severity  Accidents share\n",
       "0                  1         0.007779\n",
       "1                  2         0.114353\n",
       "2                  3         0.877869"
      ]
     },
     "execution_count": 188,
     "metadata": {},
     "output_type": "execute_result"
    }
   ],
   "source": [
    "shares = data2.groupby('Accident_Severity').size().reset_index(name='Accidents share')\n",
    "shares['Accidents share'] = shares['Accidents share']/data2.shape[0]\n",
    "shares"
   ]
  },
  {
   "cell_type": "code",
   "execution_count": 192,
   "metadata": {},
   "outputs": [
    {
     "data": {
      "image/png": "[encoded data removed]",
      "text/plain": [
       "<matplotlib.figure.Figure at 0x2543e5a73c8>"
      ]
     },
     "metadata": {},
     "output_type": "display_data"
    }
   ],
   "source": [
    "plt.bar(['Fatal','Serious','Slight'], shares['Accidents share'])\n",
    "plt.show()"
   ]
  },
  {
   "cell_type": "markdown",
   "metadata": {},
   "source": [
    "Como vimos al principio de la prueba, los datos de la gravedad del accidente están muy desbalanceados, siendo más del 87% accidentes leves. Por este motivo, tenemos que coger una **muestra menor de la clase mayoritaria** (accidente leve) y ponderar las observaciones de esta muestra con un **peso proporcional al bajomuestreo realizado.**\n",
    "\n",
    "Con esto conseguimos que durante el entrenamiento veamos de forma más **frecuente la clase minoritaria** lo que ayuda al modelo a **converger antes**. Y por otro ahorramos espacio en disco al tener menos observaciones con más peso y podemos **almacenar más observaciones de la clase minoritaria.**"
   ]
  },
  {
   "cell_type": "markdown",
   "metadata": {},
   "source": [
    "Por tanto, en primer lugar tomamos una **muestra aleatoria** que contenga aproximadamente el **20% de las observaciones de accidentes leves** y lo concatenamos con las demás observaciones:"
   ]
  },
  {
   "cell_type": "code",
   "execution_count": 193,
   "metadata": {},
   "outputs": [],
   "source": [
    "d1 = data2[data2.Accident_Severity==3].sample(n=130000)"
   ]
  },
  {
   "cell_type": "code",
   "execution_count": 194,
   "metadata": {},
   "outputs": [],
   "source": [
    "downsample = pd.concat([d1, data2[data2.Accident_Severity.isin([1, 2])]])"
   ]
  },
  {
   "cell_type": "markdown",
   "metadata": {},
   "source": [
    "Definimos nuestro conjunto de observaciones y el vector con las etiquetas para clasificar (Fatal , Serious o Slight) y spliteamos en conjuntos de **training (80%) y test (20%):**"
   ]
  },
  {
   "cell_type": "code",
   "execution_count": 196,
   "metadata": {
    "collapsed": true
   },
   "outputs": [],
   "source": [
    "X = downsample.drop(columns=['year', 'Accident_Index', 'Accident_Severity']).values\n",
    "y = downsample['Accident_Severity'].values"
   ]
  },
  {
   "cell_type": "code",
   "execution_count": 197,
   "metadata": {},
   "outputs": [],
   "source": [
    "X_train, X_test, y_train, y_test = train_test_split(X, y, test_size=.2, random_state=42)"
   ]
  },
  {
   "cell_type": "markdown",
   "metadata": {},
   "source": [
    "Así quedarían el número de observaciones de cada clase en el conjunto de entrenamiento:"
   ]
  },
  {
   "cell_type": "code",
   "execution_count": 204,
   "metadata": {},
   "outputs": [
    {
     "data": {
      "image/png": "[encoded data removed]",
      "text/plain": [
       "<matplotlib.figure.Figure at 0x254199cbbe0>"
      ]
     },
     "metadata": {},
     "output_type": "display_data"
    },
    {
     "data": {
      "text/plain": [
       "<matplotlib.axes._subplots.AxesSubplot at 0x2541987dd68>"
      ]
     },
     "execution_count": 204,
     "metadata": {},
     "output_type": "execute_result"
    }
   ],
   "source": [
    "visualizer = ClassBalance(labels=[\"Fatal\", \"Serious\", \"Slight\"])\n",
    "\n",
    "visualizer.fit(y_train)        \n",
    "visualizer.show()   "
   ]
  },
  {
   "cell_type": "markdown",
   "metadata": {},
   "source": [
    "Utilizaremos 100 árboles y el criterio de Gini como métrica de calidad de cada spliteo y la ponderación para cada clase:"
   ]
  },
  {
   "cell_type": "code",
   "execution_count": 206,
   "metadata": {},
   "outputs": [],
   "source": [
    "clf = RandomForestClassifier(n_estimators=100, criterion= 'gini', random_state = 42, class_weight={1:1, 2:.6, 3:20})\n",
    "clf.fit(X_train, y_train)\n",
    "y_pred = clf.predict(X_test)"
   ]
  },
  {
   "cell_type": "markdown",
   "metadata": {},
   "source": [
    "Podemos visualizar diversas métricas de la clasificación:"
   ]
  },
  {
   "cell_type": "markdown",
   "metadata": {},
   "source": [
    "Matriz de confusión:"
   ]
  },
  {
   "cell_type": "code",
   "execution_count": 207,
   "metadata": {},
   "outputs": [
    {
     "name": "stderr",
     "output_type": "stream",
     "text": [
      "C:\\Users\\asus\\Anaconda3\\lib\\site-packages\\sklearn\\base.py:213: FutureWarning: From version 0.24, get_params will raise an AttributeError if a parameter cannot be retrieved as an instance attribute. Previously it would return None.\n",
      "  FutureWarning)\n"
     ]
    },
    {
     "data": {
      "image/png": "[encoded data removed]",
      "text/plain": [
       "<matplotlib.figure.Figure at 0x2541983bf28>"
      ]
     },
     "metadata": {},
     "output_type": "display_data"
    },
    {
     "data": {
      "text/plain": [
       "<matplotlib.axes._subplots.AxesSubplot at 0x2541975a828>"
      ]
     },
     "execution_count": 207,
     "metadata": {},
     "output_type": "execute_result"
    }
   ],
   "source": [
    "cm = ConfusionMatrix(clf)\n",
    "cm.fit(X_train, y_train)\n",
    "cm.score(X_test, y_test)\n",
    "cm.show()"
   ]
  },
  {
   "cell_type": "markdown",
   "metadata": {},
   "source": [
    "Precision, Recall y F1 score ponderado por clase:"
   ]
  },
  {
   "cell_type": "code",
   "execution_count": 209,
   "metadata": {},
   "outputs": [
    {
     "name": "stdout",
     "output_type": "stream",
     "text": [
      "Precision 0.628\n",
      "Recall 0.644\n",
      "F1 score 0.634\n",
      "Balanced accuracy: 0.431\n"
     ]
    }
   ],
   "source": [
    "print('Precision {:.3f}'.format(precision_score(y_test, y_pred, average='weighted')))\n",
    "print('Recall {:.3f}'.format(recall_score(y_test, y_pred, average='weighted')))\n",
    "print('F1 score {:.3f}'.format(f1_score(y_test, y_pred, average='weighted')))\n",
    "print('Balanced accuracy: {:.3f}'.format(balanced_accuracy_score(y_test, y_pred)))"
   ]
  },
  {
   "cell_type": "markdown",
   "metadata": {},
   "source": [
    "Curva ROC para cada clase:"
   ]
  },
  {
   "cell_type": "code",
   "execution_count": 210,
   "metadata": {},
   "outputs": [
    {
     "name": "stderr",
     "output_type": "stream",
     "text": [
      "C:\\Users\\asus\\Anaconda3\\lib\\site-packages\\sklearn\\base.py:213: FutureWarning: From version 0.24, get_params will raise an AttributeError if a parameter cannot be retrieved as an instance attribute. Previously it would return None.\n",
      "  FutureWarning)\n"
     ]
    },
    {
     "data": {
      "image/png": "[encoded data removed]",
      "text/plain": [
       "<matplotlib.figure.Figure at 0x254197654e0>"
      ]
     },
     "metadata": {},
     "output_type": "display_data"
    },
    {
     "data": {
      "text/plain": [
       "<matplotlib.axes._subplots.AxesSubplot at 0x254197c8710>"
      ]
     },
     "execution_count": 210,
     "metadata": {},
     "output_type": "execute_result"
    }
   ],
   "source": [
    "visualizer = ROCAUC(clf)\n",
    "visualizer.fit(X_train, y_train)    \n",
    "visualizer.score(X_test, y_test)        \n",
    "visualizer.show()"
   ]
  },
  {
   "cell_type": "markdown",
   "metadata": {},
   "source": [
    "Y el número de observaciones mal clasificadas para cada clase:"
   ]
  },
  {
   "cell_type": "code",
   "execution_count": 211,
   "metadata": {},
   "outputs": [
    {
     "name": "stderr",
     "output_type": "stream",
     "text": [
      "C:\\Users\\asus\\Anaconda3\\lib\\site-packages\\sklearn\\base.py:213: FutureWarning: From version 0.24, get_params will raise an AttributeError if a parameter cannot be retrieved as an instance attribute. Previously it would return None.\n",
      "  FutureWarning)\n"
     ]
    },
    {
     "data": {
      "image/png": "[encoded data removed]",
      "text/plain": [
       "<matplotlib.figure.Figure at 0x25411427da0>"
      ]
     },
     "metadata": {},
     "output_type": "display_data"
    },
    {
     "data": {
      "text/plain": [
       "<matplotlib.axes._subplots.AxesSubplot at 0x2541147e898>"
      ]
     },
     "execution_count": 211,
     "metadata": {},
     "output_type": "execute_result"
    }
   ],
   "source": [
    "visualizer = ClassPredictionError(clf)\n",
    "visualizer.fit(X_train, y_train)\n",
    "visualizer.score(X_test, y_test)\n",
    "visualizer.show()"
   ]
  },
  {
   "cell_type": "markdown",
   "metadata": {},
   "source": [
    "## Conclusiones y posibles mejoras del modelo"
   ]
  },
  {
   "cell_type": "markdown",
   "metadata": {},
   "source": [
    "Como compañía de seguros estamos interesados en poder conocer de antemano si un cliente es propenso a tener accidentes de gravedad considerable para así descartarlo o ajustar el precio de la póliza convenientemente. En este caso, hemos diseñado un modelo que clasifica la gravedad de los accidentes ocurridos en base a una serie de características tanto del lugar donde se produjo el accidente como de los vehículos y heridos implicados en el mismo. También se ha incluido un mapa de calor donde se reflejan las **zonas con mayor tasa de accidentes graves**, con lo cual a los clientes que residan en esas zonas y sus condiciones coincidan con las definidas en el mapa se les podría **incrementar** el precio de la póliza.\n",
    "\n",
    "Desde un principio observamos que los datos están desbalanceados, puesto que casi el **88% de los accidentes ocurridos son leves**, lo cual dificulta al modelo la clasificación correcta de la clase minoritaria. Sería conveniente también tener alguna variable que nos indique más detalles del momento del accidente, como **velocidad que llevaba el vehículo o si el conductor iba en estado de embriaguez por ejemplo.**\n",
    "\n",
    "A pesar de tener un área bajo la curva ROC de 0.76 para la clase de accidentes graves, nuestro modelo solo es capaz de clasificar correctamente el **0.56% de los accidentes severos** en la muestra de test, con lo que necesitaríamos más observaciones de este tipo de siniestros, así como más variables que ayudaran a discriminarlos de una forma más precisa.\n",
    "\n",
    "Otros posibles modelos sería el **modelo ARIMA** que se comentó anteriormente, para predecir el número de accidentes que van a ocurrir en una ventana de tiempo determinada, por ejemplo por tipo de vehículo y calibrar las pólizas de los mismos o también se podría diseñar un modelo no supervisado de **Clustering para poder agrupar y encontrar patrones en los clientes** que han sufrido un accidente grave, y tenerlo en cuenta de cara a calibrar el precio de su póliza."
   ]
  }
 ],
 "metadata": {
  "kernelspec": {
   "display_name": "Python 3",
   "language": "python",
   "name": "python3"
  },
  "language_info": {
   "codemirror_mode": {
    "name": "ipython",
    "version": 3
   },
   "file_extension": ".py",
   "mimetype": "text/x-python",
   "name": "python",
   "nbconvert_exporter": "python",
   "pygments_lexer": "ipython3",
   "version": "3.6.10"
  }
 },
 "nbformat": 4,
 "nbformat_minor": 4
}
